{
 "cells": [
  {
   "cell_type": "code",
   "execution_count": 1,
   "source": [
    "import config\n",
    "import ssl\n",
    "from pymongo import MongoClient\n",
    "import pandas as pd\n",
    "from sklearn.tree import DecisionTreeClassifier\n",
    "from sklearn.model_selection import train_test_split\n",
    "from sklearn.metrics import accuracy_score"
   ],
   "outputs": [
    {
     "output_type": "stream",
     "name": "stderr",
     "text": [
      "/Library/Frameworks/Python.framework/Versions/3.8/lib/python3.8/site-packages/requests/__init__.py:89: RequestsDependencyWarning: urllib3 (1.26.4) or chardet (3.0.4) doesn't match a supported version!\n",
      "  warnings.warn(\"urllib3 ({}) or chardet ({}) doesn't match a supported \"\n"
     ]
    }
   ],
   "metadata": {}
  },
  {
   "cell_type": "code",
   "execution_count": 2,
   "source": [
    "\n",
    "mongo_url = config.MONGO_URL\n",
    "client = MongoClient(mongo_url, ssl_cert_reqs=ssl.CERT_NONE)\n",
    "db = client['vendors_data_db']\n",
    "collection = db.users_lables\n"
   ],
   "outputs": [],
   "metadata": {}
  },
  {
   "cell_type": "code",
   "execution_count": 3,
   "source": [
    "db.list_collection_names()"
   ],
   "outputs": [
    {
     "output_type": "execute_result",
     "data": {
      "text/plain": [
       "['aldi_data_col_2',\n",
       " 'netto_data_col_2',\n",
       " 'kaufland_data_col_2',\n",
       " 'kaufland_data_col',\n",
       " 'users_lables',\n",
       " 'product_col',\n",
       " 'users_col',\n",
       " 'carts_col_test',\n",
       " 'stg_product_col',\n",
       " 'product_hist_col',\n",
       " 'product',\n",
       " 'data_ext_logs_col',\n",
       " 'bookmarks_col',\n",
       " 'carts_col',\n",
       " 'netto_data_col',\n",
       " 'aldi_data_col']"
      ]
     },
     "metadata": {},
     "execution_count": 3
    }
   ],
   "metadata": {}
  },
  {
   "cell_type": "code",
   "execution_count": 4,
   "source": [
    "cursor = db.users_lables.find({})\n",
    "for doc in cursor:\n",
    "    print(doc)"
   ],
   "outputs": [
    {
     "output_type": "stream",
     "name": "stdout",
     "text": [
      "{'_id': ObjectId('6112933905bdc535534122fb'), 'firstName': 'Anna', 'lastName': 'Smith', 'age': 34, 'gender': 0, 'nationality': 'USA', 'Interested': 'Cheese'}\n",
      "{'_id': ObjectId('6112991805bdc53553412307'), 'firstName': 'Sara', 'lastName': 'Aghaei', 'age': 23, 'gender': 0, 'nationality': 'Iranian', 'Interested': 'Meet'}\n",
      "{'_id': ObjectId('6112995405bdc53553412308'), 'firstName': 'Mohammad', 'lastName': 'Mostafaei', 'age': 54, 'gender': 1, 'nationality': 'India', 'Interested': 'Cheese'}\n",
      "{'_id': ObjectId('6112999305bdc53553412309'), 'firstName': 'Simin', 'lastName': 'Kashani', 'age': 33, 'gender': 0, 'nationality': 'India', 'Interested': 'Cheese'}\n"
     ]
    }
   ],
   "metadata": {}
  },
  {
   "cell_type": "code",
   "execution_count": 5,
   "source": [
    "df = pd.DataFrame(list(collection.find()))\n"
   ],
   "outputs": [],
   "metadata": {}
  },
  {
   "cell_type": "code",
   "execution_count": 6,
   "source": [
    "df"
   ],
   "outputs": [
    {
     "output_type": "execute_result",
     "data": {
      "text/plain": [
       "                        _id firstName   lastName  age  gender nationality  \\\n",
       "0  6112933905bdc535534122fb      Anna      Smith   34       0         USA   \n",
       "1  6112991805bdc53553412307      Sara     Aghaei   23       0     Iranian   \n",
       "2  6112995405bdc53553412308  Mohammad  Mostafaei   54       1       India   \n",
       "3  6112999305bdc53553412309     Simin    Kashani   33       0       India   \n",
       "\n",
       "  Interested  \n",
       "0     Cheese  \n",
       "1       Meet  \n",
       "2     Cheese  \n",
       "3     Cheese  "
      ],
      "text/html": [
       "<div>\n",
       "<style scoped>\n",
       "    .dataframe tbody tr th:only-of-type {\n",
       "        vertical-align: middle;\n",
       "    }\n",
       "\n",
       "    .dataframe tbody tr th {\n",
       "        vertical-align: top;\n",
       "    }\n",
       "\n",
       "    .dataframe thead th {\n",
       "        text-align: right;\n",
       "    }\n",
       "</style>\n",
       "<table border=\"1\" class=\"dataframe\">\n",
       "  <thead>\n",
       "    <tr style=\"text-align: right;\">\n",
       "      <th></th>\n",
       "      <th>_id</th>\n",
       "      <th>firstName</th>\n",
       "      <th>lastName</th>\n",
       "      <th>age</th>\n",
       "      <th>gender</th>\n",
       "      <th>nationality</th>\n",
       "      <th>Interested</th>\n",
       "    </tr>\n",
       "  </thead>\n",
       "  <tbody>\n",
       "    <tr>\n",
       "      <th>0</th>\n",
       "      <td>6112933905bdc535534122fb</td>\n",
       "      <td>Anna</td>\n",
       "      <td>Smith</td>\n",
       "      <td>34</td>\n",
       "      <td>0</td>\n",
       "      <td>USA</td>\n",
       "      <td>Cheese</td>\n",
       "    </tr>\n",
       "    <tr>\n",
       "      <th>1</th>\n",
       "      <td>6112991805bdc53553412307</td>\n",
       "      <td>Sara</td>\n",
       "      <td>Aghaei</td>\n",
       "      <td>23</td>\n",
       "      <td>0</td>\n",
       "      <td>Iranian</td>\n",
       "      <td>Meet</td>\n",
       "    </tr>\n",
       "    <tr>\n",
       "      <th>2</th>\n",
       "      <td>6112995405bdc53553412308</td>\n",
       "      <td>Mohammad</td>\n",
       "      <td>Mostafaei</td>\n",
       "      <td>54</td>\n",
       "      <td>1</td>\n",
       "      <td>India</td>\n",
       "      <td>Cheese</td>\n",
       "    </tr>\n",
       "    <tr>\n",
       "      <th>3</th>\n",
       "      <td>6112999305bdc53553412309</td>\n",
       "      <td>Simin</td>\n",
       "      <td>Kashani</td>\n",
       "      <td>33</td>\n",
       "      <td>0</td>\n",
       "      <td>India</td>\n",
       "      <td>Cheese</td>\n",
       "    </tr>\n",
       "  </tbody>\n",
       "</table>\n",
       "</div>"
      ]
     },
     "metadata": {},
     "execution_count": 6
    }
   ],
   "metadata": {}
  },
  {
   "cell_type": "code",
   "execution_count": 7,
   "source": [
    "X = df.drop(columns=['Interested', '_id', 'firstName', 'lastName', 'nationality'])\n",
    "y = df['Interested']\n",
    "#X_train, X_test, y_train, y_test = train_test_split(X, y, test_size= 0.2)\n",
    "model = DecisionTreeClassifier()\n",
    "#model.fit(X_train, y_train)\n",
    "model.fit(X,y)\n",
    "#predictions = model.predict(X_test)\n",
    "predictions = model.predict([[23, 1], [54,1], [23,0], [34, 0]])\n",
    "\n",
    "predictions"
   ],
   "outputs": [
    {
     "output_type": "execute_result",
     "data": {
      "text/plain": [
       "array(['Meet', 'Cheese', 'Meet', 'Cheese'], dtype=object)"
      ]
     },
     "metadata": {},
     "execution_count": 7
    }
   ],
   "metadata": {}
  },
  {
   "cell_type": "code",
   "execution_count": 8,
   "source": [
    "score = accuracy_score(y, predictions)\n",
    "#score = accuracy_score(y_test, predictions)\n",
    "\n",
    "score"
   ],
   "outputs": [
    {
     "output_type": "execute_result",
     "data": {
      "text/plain": [
       "0.25"
      ]
     },
     "metadata": {},
     "execution_count": 8
    }
   ],
   "metadata": {}
  }
 ],
 "metadata": {
  "orig_nbformat": 4,
  "language_info": {
   "name": "python",
   "version": "3.8.0",
   "mimetype": "text/x-python",
   "codemirror_mode": {
    "name": "ipython",
    "version": 3
   },
   "pygments_lexer": "ipython3",
   "nbconvert_exporter": "python",
   "file_extension": ".py"
  },
  "kernelspec": {
   "name": "python3",
   "display_name": "Python 3.8.0 64-bit"
  },
  "interpreter": {
   "hash": "0adcc2737ebf6a4a119f135174df96668767fca1ef1112612db5ecadf2b6d608"
  }
 },
 "nbformat": 4,
 "nbformat_minor": 2
}