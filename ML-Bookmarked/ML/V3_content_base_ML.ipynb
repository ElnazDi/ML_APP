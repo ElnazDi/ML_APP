{
 "cells": [
  {
   "cell_type": "code",
   "execution_count": 29,
   "source": [
    "import config\n",
    "import ssl\n",
    "import nltk\n",
    "nltk.download('stopwords')\n",
    "\n",
    "from datetime import datetime, date\n",
    "from sklearn import preprocessing\n",
    "\n",
    "from pymongo import MongoClient\n",
    "\n",
    "import pandas as pd\n",
    "import numpy as np\n",
    "\n",
    "pd.set_option('display.max_rows', None)\n",
    "pd.set_option('display.max_columns', None)\n",
    "# pd.set_option('display.max_colwidth', None)\n",
    "\n",
    "from sklearn.feature_extraction.text import TfidfVectorizer\n",
    "from sklearn.metrics.pairwise import linear_kernel\n",
    "\n",
    "from nltk.corpus import stopwords\n",
    "from sklearn.feature_extraction.text import CountVectorizer\n",
    "\n",
    "\n",
    "# Import linear kernel\n",
    "from sklearn.metrics.pairwise import linear_kernel\n",
    "\n",
    "\n"
   ],
   "outputs": [
    {
     "output_type": "stream",
     "name": "stderr",
     "text": [
      "[nltk_data] Downloading package stopwords to\n",
      "[nltk_data]     /Users/dehkharghanielnaz/nltk_data...\n",
      "[nltk_data]   Package stopwords is already up-to-date!\n"
     ]
    }
   ],
   "metadata": {}
  },
  {
   "cell_type": "code",
   "execution_count": 30,
   "source": [
    "mongo_url = config.MONGO_URL\n",
    "client = MongoClient(mongo_url, ssl_cert_reqs=ssl.CERT_NONE)\n",
    "db = client['vendors_data_db']\n",
    "\n",
    "# Three different collections (1. Users 2. Products 3. Bookmarks)\n",
    "collection_users = db.users\n",
    "collection_product = db.products\n",
    "collection_bookmarks = db.bookmarks"
   ],
   "outputs": [],
   "metadata": {}
  },
  {
   "cell_type": "code",
   "execution_count": 31,
   "source": [
    "# changing the collections to Dataframes\n",
    "users_df = pd.DataFrame(list(collection_users.find()))\n",
    "products_df = pd.DataFrame(list(collection_product.find()))\n",
    "bookmarks_df = pd.DataFrame(list(collection_bookmarks.find()))"
   ],
   "outputs": [],
   "metadata": {}
  },
  {
   "cell_type": "code",
   "execution_count": 32,
   "source": [
    "# User dataframe\n",
    "users_df.head(1)\n"
   ],
   "outputs": [
    {
     "output_type": "execute_result",
     "data": {
      "text/html": [
       "<div>\n",
       "<style scoped>\n",
       "    .dataframe tbody tr th:only-of-type {\n",
       "        vertical-align: middle;\n",
       "    }\n",
       "\n",
       "    .dataframe tbody tr th {\n",
       "        vertical-align: top;\n",
       "    }\n",
       "\n",
       "    .dataframe thead th {\n",
       "        text-align: right;\n",
       "    }\n",
       "</style>\n",
       "<table border=\"1\" class=\"dataframe\">\n",
       "  <thead>\n",
       "    <tr style=\"text-align: right;\">\n",
       "      <th></th>\n",
       "      <th>_id</th>\n",
       "      <th>username</th>\n",
       "      <th>password</th>\n",
       "      <th>gender</th>\n",
       "      <th>phone</th>\n",
       "      <th>email</th>\n",
       "      <th>country</th>\n",
       "      <th>dateOfBirth</th>\n",
       "      <th>__v</th>\n",
       "    </tr>\n",
       "  </thead>\n",
       "  <tbody>\n",
       "    <tr>\n",
       "      <th>0</th>\n",
       "      <td>613d0a82caf647c9cf94b860</td>\n",
       "      <td>Emil.Glover11</td>\n",
       "      <td>$2b$10$8q4IbzexLp9O6Sa22t1beON84IQw1Cwbkq95lPO...</td>\n",
       "      <td>Male</td>\n",
       "      <td>452.663.9160 x0505</td>\n",
       "      <td>Lydia.Dach64@gmail.com</td>\n",
       "      <td>Namibia</td>\n",
       "      <td>1984-10-19T00:50:53.006Z</td>\n",
       "      <td>0</td>\n",
       "    </tr>\n",
       "  </tbody>\n",
       "</table>\n",
       "</div>"
      ],
      "text/plain": [
       "                        _id       username  \\\n",
       "0  613d0a82caf647c9cf94b860  Emil.Glover11   \n",
       "\n",
       "                                            password gender  \\\n",
       "0  $2b$10$8q4IbzexLp9O6Sa22t1beON84IQw1Cwbkq95lPO...   Male   \n",
       "\n",
       "                phone                   email  country  \\\n",
       "0  452.663.9160 x0505  Lydia.Dach64@gmail.com  Namibia   \n",
       "\n",
       "                dateOfBirth  __v  \n",
       "0  1984-10-19T00:50:53.006Z    0  "
      ]
     },
     "metadata": {},
     "execution_count": 32
    }
   ],
   "metadata": {}
  },
  {
   "cell_type": "code",
   "execution_count": 33,
   "source": [
    "# Bookmark dataframe\n",
    "bookmarks_df.head(1)"
   ],
   "outputs": [
    {
     "output_type": "execute_result",
     "data": {
      "text/html": [
       "<div>\n",
       "<style scoped>\n",
       "    .dataframe tbody tr th:only-of-type {\n",
       "        vertical-align: middle;\n",
       "    }\n",
       "\n",
       "    .dataframe tbody tr th {\n",
       "        vertical-align: top;\n",
       "    }\n",
       "\n",
       "    .dataframe thead th {\n",
       "        text-align: right;\n",
       "    }\n",
       "</style>\n",
       "<table border=\"1\" class=\"dataframe\">\n",
       "  <thead>\n",
       "    <tr style=\"text-align: right;\">\n",
       "      <th></th>\n",
       "      <th>_id</th>\n",
       "      <th>userId</th>\n",
       "      <th>active</th>\n",
       "      <th>created</th>\n",
       "      <th>productId</th>\n",
       "      <th>modified</th>\n",
       "    </tr>\n",
       "  </thead>\n",
       "  <tbody>\n",
       "    <tr>\n",
       "      <th>0</th>\n",
       "      <td>613dbdbfeea3b8bb491d0ec9</td>\n",
       "      <td>613d0a82caf647c9cf94b860</td>\n",
       "      <td>True</td>\n",
       "      <td>2021-08-10 00:38:38.185</td>\n",
       "      <td>613515dbae5592de90456bc4</td>\n",
       "      <td>NaT</td>\n",
       "    </tr>\n",
       "  </tbody>\n",
       "</table>\n",
       "</div>"
      ],
      "text/plain": [
       "                        _id                    userId  active  \\\n",
       "0  613dbdbfeea3b8bb491d0ec9  613d0a82caf647c9cf94b860    True   \n",
       "\n",
       "                  created                 productId modified  \n",
       "0 2021-08-10 00:38:38.185  613515dbae5592de90456bc4      NaT  "
      ]
     },
     "metadata": {},
     "execution_count": 33
    }
   ],
   "metadata": {}
  },
  {
   "cell_type": "code",
   "execution_count": 34,
   "source": [
    "# Products dataframe\n",
    "products_df.head(1)\n",
    "# products_df.shape #(3967, 26)\n",
    "products_df = products_df.drop_duplicates(subset=['title'])"
   ],
   "outputs": [],
   "metadata": {}
  },
  {
   "cell_type": "code",
   "execution_count": 35,
   "source": [
    "products_df.shape"
   ],
   "outputs": [
    {
     "output_type": "execute_result",
     "data": {
      "text/plain": [
       "(3733, 26)"
      ]
     },
     "metadata": {},
     "execution_count": 35
    }
   ],
   "metadata": {}
  },
  {
   "cell_type": "code",
   "execution_count": 36,
   "source": [
    "users_df.columns"
   ],
   "outputs": [
    {
     "output_type": "execute_result",
     "data": {
      "text/plain": [
       "Index(['_id', 'username', 'password', 'gender', 'phone', 'email', 'country',\n",
       "       'dateOfBirth', '__v'],\n",
       "      dtype='object')"
      ]
     },
     "metadata": {},
     "execution_count": 36
    }
   ],
   "metadata": {}
  },
  {
   "cell_type": "code",
   "execution_count": 37,
   "source": [
    "products_df.columns"
   ],
   "outputs": [
    {
     "output_type": "execute_result",
     "data": {
      "text/plain": [
       "Index(['_id', 'title', 'brand', 'price', 'quantity', 'discount', 'image',\n",
       "       'vendor', 'unitPrice', 'oldPrice', 'unitPriceQuantity', 'offerDuration',\n",
       "       'category', 'subcategory', 'badges', 'thumbnailImgs', 'description',\n",
       "       'properties', 'ingredients', 'preparationInstruction', 'hints',\n",
       "       'manufacturer', 'nutritionalValues', 'status', 'created', 'modified'],\n",
       "      dtype='object')"
      ]
     },
     "metadata": {},
     "execution_count": 37
    }
   ],
   "metadata": {}
  },
  {
   "cell_type": "code",
   "execution_count": 38,
   "source": [
    "bookmarks_df.columns"
   ],
   "outputs": [
    {
     "output_type": "execute_result",
     "data": {
      "text/plain": [
       "Index(['_id', 'userId', 'active', 'created', 'productId', 'modified'], dtype='object')"
      ]
     },
     "metadata": {},
     "execution_count": 38
    }
   ],
   "metadata": {}
  },
  {
   "cell_type": "markdown",
   "source": [
    "# Data Cleaning"
   ],
   "metadata": {}
  },
  {
   "cell_type": "code",
   "execution_count": 39,
   "source": [
    "# Dropping unnessary columns in users\n",
    "users_info = users_df.drop(columns= ['username', 'phone' ,'email', 'password', '__v'])"
   ],
   "outputs": [],
   "metadata": {}
  },
  {
   "cell_type": "code",
   "execution_count": 40,
   "source": [
    "# Renaming in user's df\n",
    "users_info = users_info.rename(index=str, columns= {'_id':'user_id'})\n",
    "users_info.head(1)"
   ],
   "outputs": [
    {
     "output_type": "execute_result",
     "data": {
      "text/html": [
       "<div>\n",
       "<style scoped>\n",
       "    .dataframe tbody tr th:only-of-type {\n",
       "        vertical-align: middle;\n",
       "    }\n",
       "\n",
       "    .dataframe tbody tr th {\n",
       "        vertical-align: top;\n",
       "    }\n",
       "\n",
       "    .dataframe thead th {\n",
       "        text-align: right;\n",
       "    }\n",
       "</style>\n",
       "<table border=\"1\" class=\"dataframe\">\n",
       "  <thead>\n",
       "    <tr style=\"text-align: right;\">\n",
       "      <th></th>\n",
       "      <th>user_id</th>\n",
       "      <th>gender</th>\n",
       "      <th>country</th>\n",
       "      <th>dateOfBirth</th>\n",
       "    </tr>\n",
       "  </thead>\n",
       "  <tbody>\n",
       "    <tr>\n",
       "      <th>0</th>\n",
       "      <td>613d0a82caf647c9cf94b860</td>\n",
       "      <td>Male</td>\n",
       "      <td>Namibia</td>\n",
       "      <td>1984-10-19T00:50:53.006Z</td>\n",
       "    </tr>\n",
       "  </tbody>\n",
       "</table>\n",
       "</div>"
      ],
      "text/plain": [
       "                    user_id gender  country               dateOfBirth\n",
       "0  613d0a82caf647c9cf94b860   Male  Namibia  1984-10-19T00:50:53.006Z"
      ]
     },
     "metadata": {},
     "execution_count": 40
    }
   ],
   "metadata": {}
  },
  {
   "cell_type": "code",
   "execution_count": 41,
   "source": [
    "# Convert birth date to age \n",
    "def age(born):\n",
    "    born = datetime.strptime(born, \"%Y-%m-%dT%H:%M:%S.%f%z\").date()\n",
    "    today = date.today()\n",
    "    return today.year - born.year - ((today.month, \n",
    "                                      today.day) < (born.month, \n",
    "                                                    born.day))\n",
    "  \n",
    "users_info['age'] = users_info['dateOfBirth'].apply(age)\n",
    "  \n",
    "users_info.head(3)"
   ],
   "outputs": [
    {
     "output_type": "execute_result",
     "data": {
      "text/html": [
       "<div>\n",
       "<style scoped>\n",
       "    .dataframe tbody tr th:only-of-type {\n",
       "        vertical-align: middle;\n",
       "    }\n",
       "\n",
       "    .dataframe tbody tr th {\n",
       "        vertical-align: top;\n",
       "    }\n",
       "\n",
       "    .dataframe thead th {\n",
       "        text-align: right;\n",
       "    }\n",
       "</style>\n",
       "<table border=\"1\" class=\"dataframe\">\n",
       "  <thead>\n",
       "    <tr style=\"text-align: right;\">\n",
       "      <th></th>\n",
       "      <th>user_id</th>\n",
       "      <th>gender</th>\n",
       "      <th>country</th>\n",
       "      <th>dateOfBirth</th>\n",
       "      <th>age</th>\n",
       "    </tr>\n",
       "  </thead>\n",
       "  <tbody>\n",
       "    <tr>\n",
       "      <th>0</th>\n",
       "      <td>613d0a82caf647c9cf94b860</td>\n",
       "      <td>Male</td>\n",
       "      <td>Namibia</td>\n",
       "      <td>1984-10-19T00:50:53.006Z</td>\n",
       "      <td>36</td>\n",
       "    </tr>\n",
       "    <tr>\n",
       "      <th>1</th>\n",
       "      <td>613d0a82caf647c9cf94b861</td>\n",
       "      <td>Male</td>\n",
       "      <td>Uzbekistan</td>\n",
       "      <td>1959-10-07T11:52:15.959Z</td>\n",
       "      <td>61</td>\n",
       "    </tr>\n",
       "    <tr>\n",
       "      <th>2</th>\n",
       "      <td>613d0a82caf647c9cf94b863</td>\n",
       "      <td>Male</td>\n",
       "      <td>Cuba</td>\n",
       "      <td>1962-04-03T12:44:20.771Z</td>\n",
       "      <td>59</td>\n",
       "    </tr>\n",
       "  </tbody>\n",
       "</table>\n",
       "</div>"
      ],
      "text/plain": [
       "                    user_id gender     country               dateOfBirth  age\n",
       "0  613d0a82caf647c9cf94b860   Male     Namibia  1984-10-19T00:50:53.006Z   36\n",
       "1  613d0a82caf647c9cf94b861   Male  Uzbekistan  1959-10-07T11:52:15.959Z   61\n",
       "2  613d0a82caf647c9cf94b863   Male        Cuba  1962-04-03T12:44:20.771Z   59"
      ]
     },
     "metadata": {},
     "execution_count": 41
    }
   ],
   "metadata": {}
  },
  {
   "cell_type": "code",
   "execution_count": 42,
   "source": [
    "users_info.drop(users_info[ (users_info.age <= 18)].index, axis=0, inplace=True)"
   ],
   "outputs": [],
   "metadata": {}
  },
  {
   "cell_type": "code",
   "execution_count": 43,
   "source": [
    "users_info.shape"
   ],
   "outputs": [
    {
     "output_type": "execute_result",
     "data": {
      "text/plain": [
       "(1000, 5)"
      ]
     },
     "metadata": {},
     "execution_count": 43
    }
   ],
   "metadata": {}
  },
  {
   "cell_type": "code",
   "execution_count": 44,
   "source": [
    "# Gender coding => Female: 0 and Male: 1\n",
    "\n",
    "users_info = users_info.replace(['Female', 'Male', 'Other'], [0, 1, 2])\n",
    "users_info.head(3)"
   ],
   "outputs": [
    {
     "output_type": "execute_result",
     "data": {
      "text/html": [
       "<div>\n",
       "<style scoped>\n",
       "    .dataframe tbody tr th:only-of-type {\n",
       "        vertical-align: middle;\n",
       "    }\n",
       "\n",
       "    .dataframe tbody tr th {\n",
       "        vertical-align: top;\n",
       "    }\n",
       "\n",
       "    .dataframe thead th {\n",
       "        text-align: right;\n",
       "    }\n",
       "</style>\n",
       "<table border=\"1\" class=\"dataframe\">\n",
       "  <thead>\n",
       "    <tr style=\"text-align: right;\">\n",
       "      <th></th>\n",
       "      <th>user_id</th>\n",
       "      <th>gender</th>\n",
       "      <th>country</th>\n",
       "      <th>dateOfBirth</th>\n",
       "      <th>age</th>\n",
       "    </tr>\n",
       "  </thead>\n",
       "  <tbody>\n",
       "    <tr>\n",
       "      <th>0</th>\n",
       "      <td>613d0a82caf647c9cf94b860</td>\n",
       "      <td>1</td>\n",
       "      <td>Namibia</td>\n",
       "      <td>1984-10-19T00:50:53.006Z</td>\n",
       "      <td>36</td>\n",
       "    </tr>\n",
       "    <tr>\n",
       "      <th>1</th>\n",
       "      <td>613d0a82caf647c9cf94b861</td>\n",
       "      <td>1</td>\n",
       "      <td>Uzbekistan</td>\n",
       "      <td>1959-10-07T11:52:15.959Z</td>\n",
       "      <td>61</td>\n",
       "    </tr>\n",
       "    <tr>\n",
       "      <th>2</th>\n",
       "      <td>613d0a82caf647c9cf94b863</td>\n",
       "      <td>1</td>\n",
       "      <td>Cuba</td>\n",
       "      <td>1962-04-03T12:44:20.771Z</td>\n",
       "      <td>59</td>\n",
       "    </tr>\n",
       "  </tbody>\n",
       "</table>\n",
       "</div>"
      ],
      "text/plain": [
       "                    user_id  gender     country               dateOfBirth  age\n",
       "0  613d0a82caf647c9cf94b860       1     Namibia  1984-10-19T00:50:53.006Z   36\n",
       "1  613d0a82caf647c9cf94b861       1  Uzbekistan  1959-10-07T11:52:15.959Z   61\n",
       "2  613d0a82caf647c9cf94b863       1        Cuba  1962-04-03T12:44:20.771Z   59"
      ]
     },
     "metadata": {},
     "execution_count": 44
    }
   ],
   "metadata": {}
  },
  {
   "cell_type": "code",
   "execution_count": 45,
   "source": [
    "# Countries Label Encoding \n",
    "\n",
    "label_encoder = preprocessing.LabelEncoder()\n",
    "users_info['nationality']= label_encoder.fit_transform(users_info['country']) \n",
    "users_info.head(3)"
   ],
   "outputs": [
    {
     "output_type": "execute_result",
     "data": {
      "text/html": [
       "<div>\n",
       "<style scoped>\n",
       "    .dataframe tbody tr th:only-of-type {\n",
       "        vertical-align: middle;\n",
       "    }\n",
       "\n",
       "    .dataframe tbody tr th {\n",
       "        vertical-align: top;\n",
       "    }\n",
       "\n",
       "    .dataframe thead th {\n",
       "        text-align: right;\n",
       "    }\n",
       "</style>\n",
       "<table border=\"1\" class=\"dataframe\">\n",
       "  <thead>\n",
       "    <tr style=\"text-align: right;\">\n",
       "      <th></th>\n",
       "      <th>user_id</th>\n",
       "      <th>gender</th>\n",
       "      <th>country</th>\n",
       "      <th>dateOfBirth</th>\n",
       "      <th>age</th>\n",
       "      <th>nationality</th>\n",
       "    </tr>\n",
       "  </thead>\n",
       "  <tbody>\n",
       "    <tr>\n",
       "      <th>0</th>\n",
       "      <td>613d0a82caf647c9cf94b860</td>\n",
       "      <td>1</td>\n",
       "      <td>Namibia</td>\n",
       "      <td>1984-10-19T00:50:53.006Z</td>\n",
       "      <td>36</td>\n",
       "      <td>144</td>\n",
       "    </tr>\n",
       "    <tr>\n",
       "      <th>1</th>\n",
       "      <td>613d0a82caf647c9cf94b861</td>\n",
       "      <td>1</td>\n",
       "      <td>Uzbekistan</td>\n",
       "      <td>1959-10-07T11:52:15.959Z</td>\n",
       "      <td>61</td>\n",
       "      <td>229</td>\n",
       "    </tr>\n",
       "    <tr>\n",
       "      <th>2</th>\n",
       "      <td>613d0a82caf647c9cf94b863</td>\n",
       "      <td>1</td>\n",
       "      <td>Cuba</td>\n",
       "      <td>1962-04-03T12:44:20.771Z</td>\n",
       "      <td>59</td>\n",
       "      <td>52</td>\n",
       "    </tr>\n",
       "  </tbody>\n",
       "</table>\n",
       "</div>"
      ],
      "text/plain": [
       "                    user_id  gender     country               dateOfBirth  \\\n",
       "0  613d0a82caf647c9cf94b860       1     Namibia  1984-10-19T00:50:53.006Z   \n",
       "1  613d0a82caf647c9cf94b861       1  Uzbekistan  1959-10-07T11:52:15.959Z   \n",
       "2  613d0a82caf647c9cf94b863       1        Cuba  1962-04-03T12:44:20.771Z   \n",
       "\n",
       "   age  nationality  \n",
       "0   36          144  \n",
       "1   61          229  \n",
       "2   59           52  "
      ]
     },
     "metadata": {},
     "execution_count": 45
    }
   ],
   "metadata": {}
  },
  {
   "cell_type": "code",
   "execution_count": 46,
   "source": [
    "# Dropping unnessary columns in products\n",
    "products_info = products_df.drop(columns= ['image', 'thumbnailImgs', 'status'])\n"
   ],
   "outputs": [],
   "metadata": {}
  },
  {
   "cell_type": "code",
   "execution_count": 47,
   "source": [
    "# Renaming in product's df\n",
    "\n",
    "products_info = products_info.rename(index=str, columns= {'_id':'product_id'})\n",
    "#products_info = products_info[products_info['subcategory'] == 'Baby- & Kindernahrung (350)']\n",
    "products_info.head(3)\n",
    "products_info.shape"
   ],
   "outputs": [
    {
     "output_type": "execute_result",
     "data": {
      "text/plain": [
       "(3733, 23)"
      ]
     },
     "metadata": {},
     "execution_count": 47
    }
   ],
   "metadata": {}
  },
  {
   "cell_type": "code",
   "execution_count": 48,
   "source": [
    "# Dropping unnessary columns in bookmarks\n",
    "bookmarks_info = bookmarks_df.drop(columns= ['_id','created','active', 'modified'])"
   ],
   "outputs": [],
   "metadata": {}
  },
  {
   "cell_type": "code",
   "execution_count": 49,
   "source": [
    "# Renaming in bookmark's df\n",
    "bookmarks_info = bookmarks_info.rename(index=str, columns= {'_id':'bookmarks_id', 'userId': 'user_id', 'productId' : 'product_id'})\n",
    "bookmarks_info.head(3)"
   ],
   "outputs": [
    {
     "output_type": "execute_result",
     "data": {
      "text/html": [
       "<div>\n",
       "<style scoped>\n",
       "    .dataframe tbody tr th:only-of-type {\n",
       "        vertical-align: middle;\n",
       "    }\n",
       "\n",
       "    .dataframe tbody tr th {\n",
       "        vertical-align: top;\n",
       "    }\n",
       "\n",
       "    .dataframe thead th {\n",
       "        text-align: right;\n",
       "    }\n",
       "</style>\n",
       "<table border=\"1\" class=\"dataframe\">\n",
       "  <thead>\n",
       "    <tr style=\"text-align: right;\">\n",
       "      <th></th>\n",
       "      <th>user_id</th>\n",
       "      <th>product_id</th>\n",
       "    </tr>\n",
       "  </thead>\n",
       "  <tbody>\n",
       "    <tr>\n",
       "      <th>0</th>\n",
       "      <td>613d0a82caf647c9cf94b860</td>\n",
       "      <td>613515dbae5592de90456bc4</td>\n",
       "    </tr>\n",
       "    <tr>\n",
       "      <th>1</th>\n",
       "      <td>613d0a82caf647c9cf94b860</td>\n",
       "      <td>613515d0ae5592de9045697e</td>\n",
       "    </tr>\n",
       "    <tr>\n",
       "      <th>2</th>\n",
       "      <td>613d0a82caf647c9cf94b860</td>\n",
       "      <td>613515d7ae5592de90456af7</td>\n",
       "    </tr>\n",
       "  </tbody>\n",
       "</table>\n",
       "</div>"
      ],
      "text/plain": [
       "                    user_id                product_id\n",
       "0  613d0a82caf647c9cf94b860  613515dbae5592de90456bc4\n",
       "1  613d0a82caf647c9cf94b860  613515d0ae5592de9045697e\n",
       "2  613d0a82caf647c9cf94b860  613515d7ae5592de90456af7"
      ]
     },
     "metadata": {},
     "execution_count": 49
    }
   ],
   "metadata": {}
  },
  {
   "cell_type": "code",
   "execution_count": 50,
   "source": [
    "# Changing the datatypes (Important for inner Join)\n",
    "bookmarks_info['user_id'] = bookmarks_info['user_id'].astype(str)\n",
    "users_info['user_id'] = users_info['user_id'].astype(str)"
   ],
   "outputs": [],
   "metadata": {}
  },
  {
   "cell_type": "markdown",
   "source": [
    "# Merging Dataframes Users and their Bookmarks"
   ],
   "metadata": {}
  },
  {
   "cell_type": "code",
   "execution_count": 51,
   "source": [
    "# Inner Join\n",
    "df = pd.merge(users_info, bookmarks_info, on= 'user_id')\n",
    "df.head(5)"
   ],
   "outputs": [
    {
     "output_type": "execute_result",
     "data": {
      "text/html": [
       "<div>\n",
       "<style scoped>\n",
       "    .dataframe tbody tr th:only-of-type {\n",
       "        vertical-align: middle;\n",
       "    }\n",
       "\n",
       "    .dataframe tbody tr th {\n",
       "        vertical-align: top;\n",
       "    }\n",
       "\n",
       "    .dataframe thead th {\n",
       "        text-align: right;\n",
       "    }\n",
       "</style>\n",
       "<table border=\"1\" class=\"dataframe\">\n",
       "  <thead>\n",
       "    <tr style=\"text-align: right;\">\n",
       "      <th></th>\n",
       "      <th>user_id</th>\n",
       "      <th>gender</th>\n",
       "      <th>country</th>\n",
       "      <th>dateOfBirth</th>\n",
       "      <th>age</th>\n",
       "      <th>nationality</th>\n",
       "      <th>product_id</th>\n",
       "    </tr>\n",
       "  </thead>\n",
       "  <tbody>\n",
       "    <tr>\n",
       "      <th>0</th>\n",
       "      <td>613d0a82caf647c9cf94b860</td>\n",
       "      <td>1</td>\n",
       "      <td>Namibia</td>\n",
       "      <td>1984-10-19T00:50:53.006Z</td>\n",
       "      <td>36</td>\n",
       "      <td>144</td>\n",
       "      <td>613515dbae5592de90456bc4</td>\n",
       "    </tr>\n",
       "    <tr>\n",
       "      <th>1</th>\n",
       "      <td>613d0a82caf647c9cf94b860</td>\n",
       "      <td>1</td>\n",
       "      <td>Namibia</td>\n",
       "      <td>1984-10-19T00:50:53.006Z</td>\n",
       "      <td>36</td>\n",
       "      <td>144</td>\n",
       "      <td>613515d0ae5592de9045697e</td>\n",
       "    </tr>\n",
       "    <tr>\n",
       "      <th>2</th>\n",
       "      <td>613d0a82caf647c9cf94b860</td>\n",
       "      <td>1</td>\n",
       "      <td>Namibia</td>\n",
       "      <td>1984-10-19T00:50:53.006Z</td>\n",
       "      <td>36</td>\n",
       "      <td>144</td>\n",
       "      <td>613515d7ae5592de90456af7</td>\n",
       "    </tr>\n",
       "    <tr>\n",
       "      <th>3</th>\n",
       "      <td>613d0a82caf647c9cf94b860</td>\n",
       "      <td>1</td>\n",
       "      <td>Namibia</td>\n",
       "      <td>1984-10-19T00:50:53.006Z</td>\n",
       "      <td>36</td>\n",
       "      <td>144</td>\n",
       "      <td>613515d7ae5592de90456ae3</td>\n",
       "    </tr>\n",
       "    <tr>\n",
       "      <th>4</th>\n",
       "      <td>613d0a82caf647c9cf94b860</td>\n",
       "      <td>1</td>\n",
       "      <td>Namibia</td>\n",
       "      <td>1984-10-19T00:50:53.006Z</td>\n",
       "      <td>36</td>\n",
       "      <td>144</td>\n",
       "      <td>613515dfae5592de90456c59</td>\n",
       "    </tr>\n",
       "  </tbody>\n",
       "</table>\n",
       "</div>"
      ],
      "text/plain": [
       "                    user_id  gender  country               dateOfBirth  age  \\\n",
       "0  613d0a82caf647c9cf94b860       1  Namibia  1984-10-19T00:50:53.006Z   36   \n",
       "1  613d0a82caf647c9cf94b860       1  Namibia  1984-10-19T00:50:53.006Z   36   \n",
       "2  613d0a82caf647c9cf94b860       1  Namibia  1984-10-19T00:50:53.006Z   36   \n",
       "3  613d0a82caf647c9cf94b860       1  Namibia  1984-10-19T00:50:53.006Z   36   \n",
       "4  613d0a82caf647c9cf94b860       1  Namibia  1984-10-19T00:50:53.006Z   36   \n",
       "\n",
       "   nationality                product_id  \n",
       "0          144  613515dbae5592de90456bc4  \n",
       "1          144  613515d0ae5592de9045697e  \n",
       "2          144  613515d7ae5592de90456af7  \n",
       "3          144  613515d7ae5592de90456ae3  \n",
       "4          144  613515dfae5592de90456c59  "
      ]
     },
     "metadata": {},
     "execution_count": 51
    }
   ],
   "metadata": {}
  },
  {
   "cell_type": "code",
   "execution_count": 52,
   "source": [
    "# put all user bookmarks infront of him/her\n",
    "df_grouped_id = df.groupby('user_id').agg({\n",
    "    'gender':'first', \n",
    "    'age': 'first',\n",
    "    'nationality' : 'first',\n",
    "    'product_id': ', '.join, \n",
    "     }).reset_index() "
   ],
   "outputs": [],
   "metadata": {}
  },
  {
   "cell_type": "code",
   "execution_count": 53,
   "source": [
    "# Final DF for using in ML\n",
    "# Here having all unique users with their personal information and bookmarked items\n",
    "df_grouped_id.head(3)"
   ],
   "outputs": [
    {
     "output_type": "execute_result",
     "data": {
      "text/html": [
       "<div>\n",
       "<style scoped>\n",
       "    .dataframe tbody tr th:only-of-type {\n",
       "        vertical-align: middle;\n",
       "    }\n",
       "\n",
       "    .dataframe tbody tr th {\n",
       "        vertical-align: top;\n",
       "    }\n",
       "\n",
       "    .dataframe thead th {\n",
       "        text-align: right;\n",
       "    }\n",
       "</style>\n",
       "<table border=\"1\" class=\"dataframe\">\n",
       "  <thead>\n",
       "    <tr style=\"text-align: right;\">\n",
       "      <th></th>\n",
       "      <th>user_id</th>\n",
       "      <th>gender</th>\n",
       "      <th>age</th>\n",
       "      <th>nationality</th>\n",
       "      <th>product_id</th>\n",
       "    </tr>\n",
       "  </thead>\n",
       "  <tbody>\n",
       "    <tr>\n",
       "      <th>0</th>\n",
       "      <td>613d0a82caf647c9cf94b860</td>\n",
       "      <td>1</td>\n",
       "      <td>36</td>\n",
       "      <td>144</td>\n",
       "      <td>613515dbae5592de90456bc4, 613515d0ae5592de9045...</td>\n",
       "    </tr>\n",
       "    <tr>\n",
       "      <th>1</th>\n",
       "      <td>613d0a82caf647c9cf94b861</td>\n",
       "      <td>1</td>\n",
       "      <td>61</td>\n",
       "      <td>229</td>\n",
       "      <td>613515dcae5592de90456bea, 613515e0ae5592de9045...</td>\n",
       "    </tr>\n",
       "    <tr>\n",
       "      <th>2</th>\n",
       "      <td>613d0a82caf647c9cf94b862</td>\n",
       "      <td>1</td>\n",
       "      <td>50</td>\n",
       "      <td>234</td>\n",
       "      <td>613515dbae5592de90456bbd, 613515d8ae5592de9045...</td>\n",
       "    </tr>\n",
       "  </tbody>\n",
       "</table>\n",
       "</div>"
      ],
      "text/plain": [
       "                    user_id  gender  age  nationality  \\\n",
       "0  613d0a82caf647c9cf94b860       1   36          144   \n",
       "1  613d0a82caf647c9cf94b861       1   61          229   \n",
       "2  613d0a82caf647c9cf94b862       1   50          234   \n",
       "\n",
       "                                          product_id  \n",
       "0  613515dbae5592de90456bc4, 613515d0ae5592de9045...  \n",
       "1  613515dcae5592de90456bea, 613515e0ae5592de9045...  \n",
       "2  613515dbae5592de90456bbd, 613515d8ae5592de9045...  "
      ]
     },
     "metadata": {},
     "execution_count": 53
    }
   ],
   "metadata": {}
  },
  {
   "cell_type": "code",
   "execution_count": 54,
   "source": [
    "df_grouped_id.shape"
   ],
   "outputs": [
    {
     "output_type": "execute_result",
     "data": {
      "text/plain": [
       "(1000, 5)"
      ]
     },
     "metadata": {},
     "execution_count": 54
    }
   ],
   "metadata": {}
  },
  {
   "cell_type": "code",
   "execution_count": 55,
   "source": [
    "products_info.shape"
   ],
   "outputs": [
    {
     "output_type": "execute_result",
     "data": {
      "text/plain": [
       "(3733, 23)"
      ]
     },
     "metadata": {},
     "execution_count": 55
    }
   ],
   "metadata": {}
  },
  {
   "cell_type": "markdown",
   "source": [
    "# Machine Learning:"
   ],
   "metadata": {}
  },
  {
   "cell_type": "code",
   "execution_count": 56,
   "source": [
    "\n",
    "products_info.head(20)['ingredients']"
   ],
   "outputs": [
    {
     "output_type": "execute_result",
     "data": {
      "text/plain": [
       "0     Gemüse 73% (Karotten, Kartoffeln, Erbsen), Was...\n",
       "1     MILCHZUBEREITUNG (MILCH* 50%, Wasser, ENTRAHMT...\n",
       "2     Gemüse* 77% (Karotten*, Tomaten*, Kartoffeln* ...\n",
       "3     Birnenpüree* 64%, Bananenpüree* 28%, Orangensa...\n",
       "4     Gemüse* 75% (Karotten, Kartoffeln, Erbsen, Gem...\n",
       "5     Wasser, Gemüse* 37,7% (Karotten 20%, Pastinake...\n",
       "6     Karotten* 40%, Wasser, Reis* gekocht 13,2%, (W...\n",
       "7     WEIZENMEHL 65,5%, Zucker, Palmöl, GERSTENMALZE...\n",
       "8     Früchte* 59% (säurearmer Apfelsaft* aus Apfels...\n",
       "9     Gemüse* 45% (Kartoffeln* 19%, Karotten*, Kürbi...\n",
       "10    Gemüse* 57% (Tomaten *28%, Karotten*, Pastinak...\n",
       "11    Gemüse* 44% (Tomaten*, Karotten*, SELLERIE*, Z...\n",
       "12                  Äpfel*. *aus biologischer Erzeugung\n",
       "13    Früchte* 50% (Pfirsiche* 18%, Aprikosen* 12%, ...\n",
       "14    Gemüse*55% (Kartoffeln* 38%, Karotten* 10%, La...\n",
       "15    Zutaten: Gemüse* 67% (Kartoffeln* 32%, Karotte...\n",
       "16    Zutaten: Gefriergetrocknete Mangostücke* (100%...\n",
       "17    Zutaten: Pürierte Banane (43%), pürierter Pfir...\n",
       "18                                                     \n",
       "19                                                     \n",
       "Name: ingredients, dtype: object"
      ]
     },
     "metadata": {},
     "execution_count": 56
    }
   ],
   "metadata": {}
  },
  {
   "cell_type": "code",
   "execution_count": 57,
   "source": [
    "# Stopwords for German Language\n",
    "german_stop_words = stopwords.words('german')\n",
    "\n",
    "# Define a TF-IDF vectorizer object. Remove all german stop words.\n",
    "tfidf = TfidfVectorizer(stop_words= german_stop_words)\n",
    "\n",
    "\n",
    "# Replay NaN with an empty string\n",
    "products_info['ingredients'] = products_info['ingredients'].fillna('')\n",
    "\n",
    "# Construct the required TF-IDF matrix by fitting and transforming data\n",
    "tfidf_matrix = tfidf.fit_transform(products_info['ingredients'])\n",
    "\n",
    "# Output the shape of tfidf_matrix\n",
    "tfidf_matrix.shape\n",
    "\n"
   ],
   "outputs": [
    {
     "output_type": "execute_result",
     "data": {
      "text/plain": [
       "(3733, 5247)"
      ]
     },
     "metadata": {},
     "execution_count": 57
    }
   ],
   "metadata": {}
  },
  {
   "cell_type": "code",
   "execution_count": 58,
   "source": [
    "# Compute the cosine similarity matrix\n",
    "cosine_sim = linear_kernel(tfidf_matrix, tfidf_matrix)"
   ],
   "outputs": [],
   "metadata": {}
  },
  {
   "cell_type": "code",
   "execution_count": 59,
   "source": [
    "# Constract a reverse map of indices and product titles\n",
    "indices = pd.Series(products_info.index, index=products_info['title']).drop_duplicates()\n",
    "# print(indices.head(5))"
   ],
   "outputs": [],
   "metadata": {}
  },
  {
   "cell_type": "code",
   "execution_count": 60,
   "source": [
    "# Function that takes in product title as input and outputs most similar product\n",
    "def get_recommendations(title, cosine_sim = cosine_sim):\n",
    "    # Get the index of the product that matches the title\n",
    "    idx = indices[title]\n",
    "    # print([idx])\n",
    "\n",
    "    # Get the pairwise similarity scores of all products with that product\n",
    "    sim_scores = list(enumerate(cosine_sim[int(idx)]))\n",
    "    #print(sim_scores)\n",
    "\n",
    "    # Sort the movies based on the similarity score\n",
    "    sim_scores = sorted(sim_scores, key= lambda x:x[1], reverse=True)\n",
    "\n",
    "    # Get the scores of the 10 most similar movies\n",
    "    sim_scores = sim_scores[1:4]\n",
    "\n",
    "    # Get the movie indices \n",
    "    product_indices = [i[0] for i in sim_scores]\n",
    "\n",
    "    # Return the top 10 most similar movies\n",
    "    return products_info['title'].iloc[product_indices]\n"
   ],
   "outputs": [],
   "metadata": {}
  },
  {
   "cell_type": "code",
   "execution_count": 61,
   "source": [
    " \n",
    "get_recommendations('Kinderkeks 180g')"
   ],
   "outputs": [
    {
     "output_type": "execute_result",
     "data": {
      "text/plain": [
       "112                  Milchbrei Grieß ab dem 6.Monat 400g\n",
       "150       Milchbrei Gute Nacht Grieß ab dem 4.Monat 400g\n",
       "232    Milchbrei Apfel/Banane/Joghurt ab dem 6.Monat ...\n",
       "Name: title, dtype: object"
      ]
     },
     "metadata": {},
     "execution_count": 61
    }
   ],
   "metadata": {}
  },
  {
   "cell_type": "markdown",
   "source": [
    "# Pushing the recommended items into MongoDB"
   ],
   "metadata": {}
  },
  {
   "cell_type": "code",
   "execution_count": null,
   "source": [
    "# Pushing in MongoDB\n",
    "collection = db.content_base_recommendations\n",
    "\n",
    "for index, row in products_info.iterrows():\n",
    "\n",
    "    recommended_products = get_recommendations(row['title'])\n",
    "    p = []\n",
    "    for rprod in recommended_products:\n",
    "        pr = products_info[products_info['title'] == rprod]\n",
    "        # print(pr)\n",
    "        # print(str(pr.product_id[0]))\n",
    "        p.append(str(pr.product_id[0]))\n",
    "   \n",
    "    mydict = {'productId': str(row['product_id']),'recommendedProducts':p}\n",
    "    # print(mydict)\n",
    "    collection.insert_one(mydict);\n",
    "\n"
   ],
   "outputs": [],
   "metadata": {}
  }
 ],
 "metadata": {
  "orig_nbformat": 4,
  "language_info": {
   "name": "python",
   "version": "3.8.0",
   "mimetype": "text/x-python",
   "codemirror_mode": {
    "name": "ipython",
    "version": 3
   },
   "pygments_lexer": "ipython3",
   "nbconvert_exporter": "python",
   "file_extension": ".py"
  },
  "kernelspec": {
   "name": "python3",
   "display_name": "Python 3.8.0 64-bit"
  },
  "interpreter": {
   "hash": "0adcc2737ebf6a4a119f135174df96668767fca1ef1112612db5ecadf2b6d608"
  }
 },
 "nbformat": 4,
 "nbformat_minor": 2
}