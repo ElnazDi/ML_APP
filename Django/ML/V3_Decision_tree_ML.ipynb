{
 "cells": [
  {
   "cell_type": "code",
   "execution_count": 28,
   "source": [
    "import config\n",
    "import ssl\n",
    "\n",
    "from pymongo import MongoClient\n",
    "from dateutil import parser\n",
    "\n",
    "import pandas as pd\n",
    "import numpy as np\n",
    "from pandas import DataFrame\n",
    "\n",
    "from datetime import datetime, date\n",
    "\n",
    "from sklearn.tree import DecisionTreeClassifier\n",
    "from sklearn.tree import DecisionTreeRegressor\n",
    "from sklearn.ensemble import RandomForestClassifier\n",
    "\n",
    "from sklearn.model_selection import train_test_split\n",
    "from sklearn.metrics import accuracy_score\n",
    "from sklearn.externals import joblib\n",
    "from sklearn import tree\n",
    "from sklearn.metrics import confusion_matrix\n",
    "from sklearn.multioutput import MultiOutputRegressor\n",
    "from sklearn.ensemble import GradientBoostingRegressor\n",
    "# Import label encoder \n",
    "from sklearn import preprocessing\n",
    "\n",
    "\n",
    "pd.set_option('display.max_rows', None)\n",
    "pd.set_option('display.max_columns', None)"
   ],
   "outputs": [],
   "metadata": {}
  },
  {
   "cell_type": "markdown",
   "source": [
    "# Importing 3 Collections (Users - Bookmarks - Products)"
   ],
   "metadata": {}
  },
  {
   "cell_type": "code",
   "execution_count": 29,
   "source": [
    "mongo_url = config.MONGO_URL\n",
    "client = MongoClient(mongo_url, ssl_cert_reqs=ssl.CERT_NONE)\n",
    "db = client['vendors_data_db']\n",
    "\n",
    "# Three different collections (1. Users 2. Products 3. Bookmarks)\n",
    "collection_users = db.users\n",
    "collection_product = db.products\n",
    "collection_bookmarks = db.bookmarks"
   ],
   "outputs": [],
   "metadata": {}
  },
  {
   "cell_type": "code",
   "execution_count": 30,
   "source": [
    "# changing the collections to Dataframes\n",
    "users_df = pd.DataFrame(list(collection_users.find()))\n",
    "products_df = pd.DataFrame(list(collection_product.find()))\n",
    "bookmarks_df = pd.DataFrame(list(collection_bookmarks.find()))"
   ],
   "outputs": [],
   "metadata": {}
  },
  {
   "cell_type": "code",
   "execution_count": 31,
   "source": [
    "# User dataframe\n",
    "users_df.head(1)"
   ],
   "outputs": [
    {
     "output_type": "execute_result",
     "data": {
      "text/html": [
       "<div>\n",
       "<style scoped>\n",
       "    .dataframe tbody tr th:only-of-type {\n",
       "        vertical-align: middle;\n",
       "    }\n",
       "\n",
       "    .dataframe tbody tr th {\n",
       "        vertical-align: top;\n",
       "    }\n",
       "\n",
       "    .dataframe thead th {\n",
       "        text-align: right;\n",
       "    }\n",
       "</style>\n",
       "<table border=\"1\" class=\"dataframe\">\n",
       "  <thead>\n",
       "    <tr style=\"text-align: right;\">\n",
       "      <th></th>\n",
       "      <th>_id</th>\n",
       "      <th>username</th>\n",
       "      <th>password</th>\n",
       "      <th>gender</th>\n",
       "      <th>phone</th>\n",
       "      <th>email</th>\n",
       "      <th>country</th>\n",
       "      <th>dateOfBirth</th>\n",
       "      <th>__v</th>\n",
       "    </tr>\n",
       "  </thead>\n",
       "  <tbody>\n",
       "    <tr>\n",
       "      <th>0</th>\n",
       "      <td>613d0a82caf647c9cf94b860</td>\n",
       "      <td>Emil.Glover11</td>\n",
       "      <td>$2b$10$8q4IbzexLp9O6Sa22t1beON84IQw1Cwbkq95lPO...</td>\n",
       "      <td>Male</td>\n",
       "      <td>452.663.9160 x0505</td>\n",
       "      <td>Lydia.Dach64@gmail.com</td>\n",
       "      <td>Namibia</td>\n",
       "      <td>1984-10-19T00:50:53.006Z</td>\n",
       "      <td>0</td>\n",
       "    </tr>\n",
       "  </tbody>\n",
       "</table>\n",
       "</div>"
      ],
      "text/plain": [
       "                        _id       username  \\\n",
       "0  613d0a82caf647c9cf94b860  Emil.Glover11   \n",
       "\n",
       "                                            password gender  \\\n",
       "0  $2b$10$8q4IbzexLp9O6Sa22t1beON84IQw1Cwbkq95lPO...   Male   \n",
       "\n",
       "                phone                   email  country  \\\n",
       "0  452.663.9160 x0505  Lydia.Dach64@gmail.com  Namibia   \n",
       "\n",
       "                dateOfBirth  __v  \n",
       "0  1984-10-19T00:50:53.006Z    0  "
      ]
     },
     "metadata": {},
     "execution_count": 31
    }
   ],
   "metadata": {}
  },
  {
   "cell_type": "code",
   "execution_count": 32,
   "source": [
    "# Bookmark dataframe\n",
    "bookmarks_df.head(1)"
   ],
   "outputs": [
    {
     "output_type": "execute_result",
     "data": {
      "text/html": [
       "<div>\n",
       "<style scoped>\n",
       "    .dataframe tbody tr th:only-of-type {\n",
       "        vertical-align: middle;\n",
       "    }\n",
       "\n",
       "    .dataframe tbody tr th {\n",
       "        vertical-align: top;\n",
       "    }\n",
       "\n",
       "    .dataframe thead th {\n",
       "        text-align: right;\n",
       "    }\n",
       "</style>\n",
       "<table border=\"1\" class=\"dataframe\">\n",
       "  <thead>\n",
       "    <tr style=\"text-align: right;\">\n",
       "      <th></th>\n",
       "      <th>_id</th>\n",
       "      <th>userId</th>\n",
       "      <th>active</th>\n",
       "      <th>created</th>\n",
       "      <th>productId</th>\n",
       "      <th>modified</th>\n",
       "    </tr>\n",
       "  </thead>\n",
       "  <tbody>\n",
       "    <tr>\n",
       "      <th>0</th>\n",
       "      <td>613dbdbfeea3b8bb491d0ec9</td>\n",
       "      <td>613d0a82caf647c9cf94b860</td>\n",
       "      <td>True</td>\n",
       "      <td>2021-08-10 00:38:38.185</td>\n",
       "      <td>613515dbae5592de90456bc4</td>\n",
       "      <td>NaT</td>\n",
       "    </tr>\n",
       "  </tbody>\n",
       "</table>\n",
       "</div>"
      ],
      "text/plain": [
       "                        _id                    userId  active  \\\n",
       "0  613dbdbfeea3b8bb491d0ec9  613d0a82caf647c9cf94b860    True   \n",
       "\n",
       "                  created                 productId modified  \n",
       "0 2021-08-10 00:38:38.185  613515dbae5592de90456bc4      NaT  "
      ]
     },
     "metadata": {},
     "execution_count": 32
    }
   ],
   "metadata": {}
  },
  {
   "cell_type": "code",
   "execution_count": 33,
   "source": [
    "# Products dataframe\n",
    "products_df.head(1)"
   ],
   "outputs": [
    {
     "output_type": "execute_result",
     "data": {
      "text/html": [
       "<div>\n",
       "<style scoped>\n",
       "    .dataframe tbody tr th:only-of-type {\n",
       "        vertical-align: middle;\n",
       "    }\n",
       "\n",
       "    .dataframe tbody tr th {\n",
       "        vertical-align: top;\n",
       "    }\n",
       "\n",
       "    .dataframe thead th {\n",
       "        text-align: right;\n",
       "    }\n",
       "</style>\n",
       "<table border=\"1\" class=\"dataframe\">\n",
       "  <thead>\n",
       "    <tr style=\"text-align: right;\">\n",
       "      <th></th>\n",
       "      <th>_id</th>\n",
       "      <th>title</th>\n",
       "      <th>brand</th>\n",
       "      <th>price</th>\n",
       "      <th>quantity</th>\n",
       "      <th>discount</th>\n",
       "      <th>image</th>\n",
       "      <th>vendor</th>\n",
       "      <th>unitPrice</th>\n",
       "      <th>oldPrice</th>\n",
       "      <th>unitPriceQuantity</th>\n",
       "      <th>offerDuration</th>\n",
       "      <th>category</th>\n",
       "      <th>subcategory</th>\n",
       "      <th>badges</th>\n",
       "      <th>thumbnailImgs</th>\n",
       "      <th>description</th>\n",
       "      <th>properties</th>\n",
       "      <th>ingredients</th>\n",
       "      <th>preparationInstruction</th>\n",
       "      <th>hints</th>\n",
       "      <th>manufacturer</th>\n",
       "      <th>nutritionalValues</th>\n",
       "      <th>status</th>\n",
       "      <th>created</th>\n",
       "      <th>modified</th>\n",
       "    </tr>\n",
       "  </thead>\n",
       "  <tbody>\n",
       "    <tr>\n",
       "      <th>0</th>\n",
       "      <td>613515cdae5592de9045691b</td>\n",
       "      <td>Feines Gemüse-Allerlei 190g</td>\n",
       "      <td>BEBIVITA</td>\n",
       "      <td>0.65</td>\n",
       "      <td>190g Glas</td>\n",
       "      <td>0.0</td>\n",
       "      <td>https://media.kaufland.com/images/PPIM/AP_Prod...</td>\n",
       "      <td>Kaufland</td>\n",
       "      <td>0.65</td>\n",
       "      <td>0.0</td>\n",
       "      <td>100 g = 0,35 €</td>\n",
       "      <td>None</td>\n",
       "      <td>Baby &amp; Kind</td>\n",
       "      <td>Baby- &amp; Kindernahrung (350)</td>\n",
       "      <td>None</td>\n",
       "      <td>[https://media.kaufland.com/images/PPIM/AP_Pro...</td>\n",
       "      <td>Beste Zutaten aus der Natur - Karotten, Kartof...</td>\n",
       "      <td>Altersempfehlung:ab 6. MonatFüllmenge:190.0Fre...</td>\n",
       "      <td>Gemüse 73% (Karotten, Kartoffeln, Erbsen), Was...</td>\n",
       "      <td></td>\n",
       "      <td>Bei Flüssigkeitsabsatz bitte umrühren. Benötig...</td>\n",
       "      <td>Bebivita GmbH</td>\n",
       "      <td>None</td>\n",
       "      <td>True</td>\n",
       "      <td>1630594239201</td>\n",
       "      <td>2021-09-03 18:00:51.834</td>\n",
       "    </tr>\n",
       "  </tbody>\n",
       "</table>\n",
       "</div>"
      ],
      "text/plain": [
       "                        _id                        title     brand  price  \\\n",
       "0  613515cdae5592de9045691b  Feines Gemüse-Allerlei 190g  BEBIVITA   0.65   \n",
       "\n",
       "    quantity  discount                                              image  \\\n",
       "0  190g Glas       0.0  https://media.kaufland.com/images/PPIM/AP_Prod...   \n",
       "\n",
       "     vendor  unitPrice  oldPrice unitPriceQuantity offerDuration     category  \\\n",
       "0  Kaufland       0.65       0.0    100 g = 0,35 €          None  Baby & Kind   \n",
       "\n",
       "                   subcategory badges  \\\n",
       "0  Baby- & Kindernahrung (350)   None   \n",
       "\n",
       "                                       thumbnailImgs  \\\n",
       "0  [https://media.kaufland.com/images/PPIM/AP_Pro...   \n",
       "\n",
       "                                         description  \\\n",
       "0  Beste Zutaten aus der Natur - Karotten, Kartof...   \n",
       "\n",
       "                                          properties  \\\n",
       "0  Altersempfehlung:ab 6. MonatFüllmenge:190.0Fre...   \n",
       "\n",
       "                                         ingredients preparationInstruction  \\\n",
       "0  Gemüse 73% (Karotten, Kartoffeln, Erbsen), Was...                          \n",
       "\n",
       "                                               hints   manufacturer  \\\n",
       "0  Bei Flüssigkeitsabsatz bitte umrühren. Benötig...  Bebivita GmbH   \n",
       "\n",
       "  nutritionalValues  status        created                modified  \n",
       "0              None    True  1630594239201 2021-09-03 18:00:51.834  "
      ]
     },
     "metadata": {},
     "execution_count": 33
    }
   ],
   "metadata": {}
  },
  {
   "cell_type": "code",
   "execution_count": 34,
   "source": [
    "users_df.columns"
   ],
   "outputs": [
    {
     "output_type": "execute_result",
     "data": {
      "text/plain": [
       "Index(['_id', 'username', 'password', 'gender', 'phone', 'email', 'country',\n",
       "       'dateOfBirth', '__v'],\n",
       "      dtype='object')"
      ]
     },
     "metadata": {},
     "execution_count": 34
    }
   ],
   "metadata": {}
  },
  {
   "cell_type": "code",
   "execution_count": 35,
   "source": [
    "products_df.columns"
   ],
   "outputs": [
    {
     "output_type": "execute_result",
     "data": {
      "text/plain": [
       "Index(['_id', 'title', 'brand', 'price', 'quantity', 'discount', 'image',\n",
       "       'vendor', 'unitPrice', 'oldPrice', 'unitPriceQuantity', 'offerDuration',\n",
       "       'category', 'subcategory', 'badges', 'thumbnailImgs', 'description',\n",
       "       'properties', 'ingredients', 'preparationInstruction', 'hints',\n",
       "       'manufacturer', 'nutritionalValues', 'status', 'created', 'modified'],\n",
       "      dtype='object')"
      ]
     },
     "metadata": {},
     "execution_count": 35
    }
   ],
   "metadata": {}
  },
  {
   "cell_type": "code",
   "execution_count": 36,
   "source": [
    "bookmarks_df.columns"
   ],
   "outputs": [
    {
     "output_type": "execute_result",
     "data": {
      "text/plain": [
       "Index(['_id', 'userId', 'active', 'created', 'productId', 'modified'], dtype='object')"
      ]
     },
     "metadata": {},
     "execution_count": 36
    }
   ],
   "metadata": {}
  },
  {
   "cell_type": "markdown",
   "source": [
    "# Data Cleaning and Data Preprocessing"
   ],
   "metadata": {}
  },
  {
   "cell_type": "code",
   "execution_count": 37,
   "source": [
    "# Dropping unnessary columns in users\n",
    "users_info = users_df.drop(columns= ['username', 'phone' ,'email', 'password', '__v'])"
   ],
   "outputs": [],
   "metadata": {}
  },
  {
   "cell_type": "code",
   "execution_count": 38,
   "source": [
    "# Renaming in user's df\n",
    "users_info = users_info.rename(index=str, columns= {'_id':'user_id'})\n",
    "users_info.head(1)"
   ],
   "outputs": [
    {
     "output_type": "execute_result",
     "data": {
      "text/html": [
       "<div>\n",
       "<style scoped>\n",
       "    .dataframe tbody tr th:only-of-type {\n",
       "        vertical-align: middle;\n",
       "    }\n",
       "\n",
       "    .dataframe tbody tr th {\n",
       "        vertical-align: top;\n",
       "    }\n",
       "\n",
       "    .dataframe thead th {\n",
       "        text-align: right;\n",
       "    }\n",
       "</style>\n",
       "<table border=\"1\" class=\"dataframe\">\n",
       "  <thead>\n",
       "    <tr style=\"text-align: right;\">\n",
       "      <th></th>\n",
       "      <th>user_id</th>\n",
       "      <th>gender</th>\n",
       "      <th>country</th>\n",
       "      <th>dateOfBirth</th>\n",
       "    </tr>\n",
       "  </thead>\n",
       "  <tbody>\n",
       "    <tr>\n",
       "      <th>0</th>\n",
       "      <td>613d0a82caf647c9cf94b860</td>\n",
       "      <td>Male</td>\n",
       "      <td>Namibia</td>\n",
       "      <td>1984-10-19T00:50:53.006Z</td>\n",
       "    </tr>\n",
       "  </tbody>\n",
       "</table>\n",
       "</div>"
      ],
      "text/plain": [
       "                    user_id gender  country               dateOfBirth\n",
       "0  613d0a82caf647c9cf94b860   Male  Namibia  1984-10-19T00:50:53.006Z"
      ]
     },
     "metadata": {},
     "execution_count": 38
    }
   ],
   "metadata": {}
  },
  {
   "cell_type": "code",
   "execution_count": 39,
   "source": [
    "# Convert birth date to age \n",
    "def age(born):\n",
    "    born = datetime.strptime(born, \"%Y-%m-%dT%H:%M:%S.%f%z\").date()\n",
    "    today = date.today()\n",
    "    return today.year - born.year - ((today.month, \n",
    "                                      today.day) < (born.month, \n",
    "                                                    born.day))\n",
    "  \n",
    "users_info['age'] = users_info['dateOfBirth'].apply(age)\n",
    "  \n",
    "users_info.head(10)"
   ],
   "outputs": [
    {
     "output_type": "execute_result",
     "data": {
      "text/html": [
       "<div>\n",
       "<style scoped>\n",
       "    .dataframe tbody tr th:only-of-type {\n",
       "        vertical-align: middle;\n",
       "    }\n",
       "\n",
       "    .dataframe tbody tr th {\n",
       "        vertical-align: top;\n",
       "    }\n",
       "\n",
       "    .dataframe thead th {\n",
       "        text-align: right;\n",
       "    }\n",
       "</style>\n",
       "<table border=\"1\" class=\"dataframe\">\n",
       "  <thead>\n",
       "    <tr style=\"text-align: right;\">\n",
       "      <th></th>\n",
       "      <th>user_id</th>\n",
       "      <th>gender</th>\n",
       "      <th>country</th>\n",
       "      <th>dateOfBirth</th>\n",
       "      <th>age</th>\n",
       "    </tr>\n",
       "  </thead>\n",
       "  <tbody>\n",
       "    <tr>\n",
       "      <th>0</th>\n",
       "      <td>613d0a82caf647c9cf94b860</td>\n",
       "      <td>Male</td>\n",
       "      <td>Namibia</td>\n",
       "      <td>1984-10-19T00:50:53.006Z</td>\n",
       "      <td>36</td>\n",
       "    </tr>\n",
       "    <tr>\n",
       "      <th>1</th>\n",
       "      <td>613d0a82caf647c9cf94b861</td>\n",
       "      <td>Male</td>\n",
       "      <td>Uzbekistan</td>\n",
       "      <td>1959-10-07T11:52:15.959Z</td>\n",
       "      <td>61</td>\n",
       "    </tr>\n",
       "    <tr>\n",
       "      <th>2</th>\n",
       "      <td>613d0a82caf647c9cf94b863</td>\n",
       "      <td>Male</td>\n",
       "      <td>Cuba</td>\n",
       "      <td>1962-04-03T12:44:20.771Z</td>\n",
       "      <td>59</td>\n",
       "    </tr>\n",
       "    <tr>\n",
       "      <th>3</th>\n",
       "      <td>613d0a82caf647c9cf94b862</td>\n",
       "      <td>Male</td>\n",
       "      <td>Virgin Islands, U.S.</td>\n",
       "      <td>1971-08-02T13:10:46.242Z</td>\n",
       "      <td>50</td>\n",
       "    </tr>\n",
       "    <tr>\n",
       "      <th>4</th>\n",
       "      <td>613d0a82caf647c9cf94b864</td>\n",
       "      <td>Other</td>\n",
       "      <td>Niue</td>\n",
       "      <td>1996-04-04T15:23:29.943Z</td>\n",
       "      <td>25</td>\n",
       "    </tr>\n",
       "    <tr>\n",
       "      <th>5</th>\n",
       "      <td>613d0a82caf647c9cf94b866</td>\n",
       "      <td>Female</td>\n",
       "      <td>United States Minor Outlying Islands</td>\n",
       "      <td>1971-05-16T04:19:52.214Z</td>\n",
       "      <td>50</td>\n",
       "    </tr>\n",
       "    <tr>\n",
       "      <th>6</th>\n",
       "      <td>613d0a82caf647c9cf94b865</td>\n",
       "      <td>Male</td>\n",
       "      <td>Saint Vincent and the Grenadines</td>\n",
       "      <td>1968-05-12T08:46:07.223Z</td>\n",
       "      <td>53</td>\n",
       "    </tr>\n",
       "    <tr>\n",
       "      <th>7</th>\n",
       "      <td>613d0a82caf647c9cf94b867</td>\n",
       "      <td>Female</td>\n",
       "      <td>Denmark</td>\n",
       "      <td>1971-08-08T10:18:53.031Z</td>\n",
       "      <td>50</td>\n",
       "    </tr>\n",
       "    <tr>\n",
       "      <th>8</th>\n",
       "      <td>613d0a82caf647c9cf94b868</td>\n",
       "      <td>Male</td>\n",
       "      <td>Tanzania</td>\n",
       "      <td>1966-07-05T12:23:02.330Z</td>\n",
       "      <td>55</td>\n",
       "    </tr>\n",
       "    <tr>\n",
       "      <th>9</th>\n",
       "      <td>613d0a82caf647c9cf94b86a</td>\n",
       "      <td>Male</td>\n",
       "      <td>Saint Martin</td>\n",
       "      <td>1995-11-03T18:15:09.392Z</td>\n",
       "      <td>25</td>\n",
       "    </tr>\n",
       "  </tbody>\n",
       "</table>\n",
       "</div>"
      ],
      "text/plain": [
       "                    user_id  gender                               country  \\\n",
       "0  613d0a82caf647c9cf94b860    Male                               Namibia   \n",
       "1  613d0a82caf647c9cf94b861    Male                            Uzbekistan   \n",
       "2  613d0a82caf647c9cf94b863    Male                                  Cuba   \n",
       "3  613d0a82caf647c9cf94b862    Male                  Virgin Islands, U.S.   \n",
       "4  613d0a82caf647c9cf94b864   Other                                  Niue   \n",
       "5  613d0a82caf647c9cf94b866  Female  United States Minor Outlying Islands   \n",
       "6  613d0a82caf647c9cf94b865    Male      Saint Vincent and the Grenadines   \n",
       "7  613d0a82caf647c9cf94b867  Female                               Denmark   \n",
       "8  613d0a82caf647c9cf94b868    Male                              Tanzania   \n",
       "9  613d0a82caf647c9cf94b86a    Male                          Saint Martin   \n",
       "\n",
       "                dateOfBirth  age  \n",
       "0  1984-10-19T00:50:53.006Z   36  \n",
       "1  1959-10-07T11:52:15.959Z   61  \n",
       "2  1962-04-03T12:44:20.771Z   59  \n",
       "3  1971-08-02T13:10:46.242Z   50  \n",
       "4  1996-04-04T15:23:29.943Z   25  \n",
       "5  1971-05-16T04:19:52.214Z   50  \n",
       "6  1968-05-12T08:46:07.223Z   53  \n",
       "7  1971-08-08T10:18:53.031Z   50  \n",
       "8  1966-07-05T12:23:02.330Z   55  \n",
       "9  1995-11-03T18:15:09.392Z   25  "
      ]
     },
     "metadata": {},
     "execution_count": 39
    }
   ],
   "metadata": {}
  },
  {
   "cell_type": "code",
   "execution_count": 40,
   "source": [
    "# filter the ages above the age of 18\n",
    "users_info.drop(users_info[ (users_info.age <= 18)].index, axis=0, inplace=True)"
   ],
   "outputs": [],
   "metadata": {}
  },
  {
   "cell_type": "code",
   "execution_count": 41,
   "source": [
    "users_info.head(3)"
   ],
   "outputs": [
    {
     "output_type": "execute_result",
     "data": {
      "text/html": [
       "<div>\n",
       "<style scoped>\n",
       "    .dataframe tbody tr th:only-of-type {\n",
       "        vertical-align: middle;\n",
       "    }\n",
       "\n",
       "    .dataframe tbody tr th {\n",
       "        vertical-align: top;\n",
       "    }\n",
       "\n",
       "    .dataframe thead th {\n",
       "        text-align: right;\n",
       "    }\n",
       "</style>\n",
       "<table border=\"1\" class=\"dataframe\">\n",
       "  <thead>\n",
       "    <tr style=\"text-align: right;\">\n",
       "      <th></th>\n",
       "      <th>user_id</th>\n",
       "      <th>gender</th>\n",
       "      <th>country</th>\n",
       "      <th>dateOfBirth</th>\n",
       "      <th>age</th>\n",
       "    </tr>\n",
       "  </thead>\n",
       "  <tbody>\n",
       "    <tr>\n",
       "      <th>0</th>\n",
       "      <td>613d0a82caf647c9cf94b860</td>\n",
       "      <td>Male</td>\n",
       "      <td>Namibia</td>\n",
       "      <td>1984-10-19T00:50:53.006Z</td>\n",
       "      <td>36</td>\n",
       "    </tr>\n",
       "    <tr>\n",
       "      <th>1</th>\n",
       "      <td>613d0a82caf647c9cf94b861</td>\n",
       "      <td>Male</td>\n",
       "      <td>Uzbekistan</td>\n",
       "      <td>1959-10-07T11:52:15.959Z</td>\n",
       "      <td>61</td>\n",
       "    </tr>\n",
       "    <tr>\n",
       "      <th>2</th>\n",
       "      <td>613d0a82caf647c9cf94b863</td>\n",
       "      <td>Male</td>\n",
       "      <td>Cuba</td>\n",
       "      <td>1962-04-03T12:44:20.771Z</td>\n",
       "      <td>59</td>\n",
       "    </tr>\n",
       "  </tbody>\n",
       "</table>\n",
       "</div>"
      ],
      "text/plain": [
       "                    user_id gender     country               dateOfBirth  age\n",
       "0  613d0a82caf647c9cf94b860   Male     Namibia  1984-10-19T00:50:53.006Z   36\n",
       "1  613d0a82caf647c9cf94b861   Male  Uzbekistan  1959-10-07T11:52:15.959Z   61\n",
       "2  613d0a82caf647c9cf94b863   Male        Cuba  1962-04-03T12:44:20.771Z   59"
      ]
     },
     "metadata": {},
     "execution_count": 41
    }
   ],
   "metadata": {}
  },
  {
   "cell_type": "code",
   "execution_count": 42,
   "source": [
    "# Gender coding => Female: 0 and Male: 1\n",
    "\n",
    "users_info = users_info.replace(['Female', 'Male', 'Other'], [0, 1, 2])\n",
    "users_info.head(3)"
   ],
   "outputs": [
    {
     "output_type": "execute_result",
     "data": {
      "text/html": [
       "<div>\n",
       "<style scoped>\n",
       "    .dataframe tbody tr th:only-of-type {\n",
       "        vertical-align: middle;\n",
       "    }\n",
       "\n",
       "    .dataframe tbody tr th {\n",
       "        vertical-align: top;\n",
       "    }\n",
       "\n",
       "    .dataframe thead th {\n",
       "        text-align: right;\n",
       "    }\n",
       "</style>\n",
       "<table border=\"1\" class=\"dataframe\">\n",
       "  <thead>\n",
       "    <tr style=\"text-align: right;\">\n",
       "      <th></th>\n",
       "      <th>user_id</th>\n",
       "      <th>gender</th>\n",
       "      <th>country</th>\n",
       "      <th>dateOfBirth</th>\n",
       "      <th>age</th>\n",
       "    </tr>\n",
       "  </thead>\n",
       "  <tbody>\n",
       "    <tr>\n",
       "      <th>0</th>\n",
       "      <td>613d0a82caf647c9cf94b860</td>\n",
       "      <td>1</td>\n",
       "      <td>Namibia</td>\n",
       "      <td>1984-10-19T00:50:53.006Z</td>\n",
       "      <td>36</td>\n",
       "    </tr>\n",
       "    <tr>\n",
       "      <th>1</th>\n",
       "      <td>613d0a82caf647c9cf94b861</td>\n",
       "      <td>1</td>\n",
       "      <td>Uzbekistan</td>\n",
       "      <td>1959-10-07T11:52:15.959Z</td>\n",
       "      <td>61</td>\n",
       "    </tr>\n",
       "    <tr>\n",
       "      <th>2</th>\n",
       "      <td>613d0a82caf647c9cf94b863</td>\n",
       "      <td>1</td>\n",
       "      <td>Cuba</td>\n",
       "      <td>1962-04-03T12:44:20.771Z</td>\n",
       "      <td>59</td>\n",
       "    </tr>\n",
       "  </tbody>\n",
       "</table>\n",
       "</div>"
      ],
      "text/plain": [
       "                    user_id  gender     country               dateOfBirth  age\n",
       "0  613d0a82caf647c9cf94b860       1     Namibia  1984-10-19T00:50:53.006Z   36\n",
       "1  613d0a82caf647c9cf94b861       1  Uzbekistan  1959-10-07T11:52:15.959Z   61\n",
       "2  613d0a82caf647c9cf94b863       1        Cuba  1962-04-03T12:44:20.771Z   59"
      ]
     },
     "metadata": {},
     "execution_count": 42
    }
   ],
   "metadata": {}
  },
  {
   "cell_type": "code",
   "execution_count": 43,
   "source": [
    "# Countries Label Encoding \n",
    "\n",
    "label_encoder = preprocessing.LabelEncoder()\n",
    "users_info['nationality']= label_encoder.fit_transform(users_info['country']) \n",
    "users_info.head(3)"
   ],
   "outputs": [
    {
     "output_type": "execute_result",
     "data": {
      "text/html": [
       "<div>\n",
       "<style scoped>\n",
       "    .dataframe tbody tr th:only-of-type {\n",
       "        vertical-align: middle;\n",
       "    }\n",
       "\n",
       "    .dataframe tbody tr th {\n",
       "        vertical-align: top;\n",
       "    }\n",
       "\n",
       "    .dataframe thead th {\n",
       "        text-align: right;\n",
       "    }\n",
       "</style>\n",
       "<table border=\"1\" class=\"dataframe\">\n",
       "  <thead>\n",
       "    <tr style=\"text-align: right;\">\n",
       "      <th></th>\n",
       "      <th>user_id</th>\n",
       "      <th>gender</th>\n",
       "      <th>country</th>\n",
       "      <th>dateOfBirth</th>\n",
       "      <th>age</th>\n",
       "      <th>nationality</th>\n",
       "    </tr>\n",
       "  </thead>\n",
       "  <tbody>\n",
       "    <tr>\n",
       "      <th>0</th>\n",
       "      <td>613d0a82caf647c9cf94b860</td>\n",
       "      <td>1</td>\n",
       "      <td>Namibia</td>\n",
       "      <td>1984-10-19T00:50:53.006Z</td>\n",
       "      <td>36</td>\n",
       "      <td>144</td>\n",
       "    </tr>\n",
       "    <tr>\n",
       "      <th>1</th>\n",
       "      <td>613d0a82caf647c9cf94b861</td>\n",
       "      <td>1</td>\n",
       "      <td>Uzbekistan</td>\n",
       "      <td>1959-10-07T11:52:15.959Z</td>\n",
       "      <td>61</td>\n",
       "      <td>229</td>\n",
       "    </tr>\n",
       "    <tr>\n",
       "      <th>2</th>\n",
       "      <td>613d0a82caf647c9cf94b863</td>\n",
       "      <td>1</td>\n",
       "      <td>Cuba</td>\n",
       "      <td>1962-04-03T12:44:20.771Z</td>\n",
       "      <td>59</td>\n",
       "      <td>52</td>\n",
       "    </tr>\n",
       "  </tbody>\n",
       "</table>\n",
       "</div>"
      ],
      "text/plain": [
       "                    user_id  gender     country               dateOfBirth  \\\n",
       "0  613d0a82caf647c9cf94b860       1     Namibia  1984-10-19T00:50:53.006Z   \n",
       "1  613d0a82caf647c9cf94b861       1  Uzbekistan  1959-10-07T11:52:15.959Z   \n",
       "2  613d0a82caf647c9cf94b863       1        Cuba  1962-04-03T12:44:20.771Z   \n",
       "\n",
       "   age  nationality  \n",
       "0   36          144  \n",
       "1   61          229  \n",
       "2   59           52  "
      ]
     },
     "metadata": {},
     "execution_count": 43
    }
   ],
   "metadata": {}
  },
  {
   "cell_type": "code",
   "execution_count": 44,
   "source": [
    "# Dropping unnessary columns in products\n",
    "products_info = products_df.drop(columns= ['image', 'thumbnailImgs', 'status'])\n"
   ],
   "outputs": [],
   "metadata": {}
  },
  {
   "cell_type": "code",
   "execution_count": 45,
   "source": [
    "# Renaming in product's df\n",
    "\n",
    "products_info = products_info.rename(index=str, columns= {'_id':'product_id'})\n",
    "products_info.head(1)"
   ],
   "outputs": [
    {
     "output_type": "execute_result",
     "data": {
      "text/html": [
       "<div>\n",
       "<style scoped>\n",
       "    .dataframe tbody tr th:only-of-type {\n",
       "        vertical-align: middle;\n",
       "    }\n",
       "\n",
       "    .dataframe tbody tr th {\n",
       "        vertical-align: top;\n",
       "    }\n",
       "\n",
       "    .dataframe thead th {\n",
       "        text-align: right;\n",
       "    }\n",
       "</style>\n",
       "<table border=\"1\" class=\"dataframe\">\n",
       "  <thead>\n",
       "    <tr style=\"text-align: right;\">\n",
       "      <th></th>\n",
       "      <th>product_id</th>\n",
       "      <th>title</th>\n",
       "      <th>brand</th>\n",
       "      <th>price</th>\n",
       "      <th>quantity</th>\n",
       "      <th>discount</th>\n",
       "      <th>vendor</th>\n",
       "      <th>unitPrice</th>\n",
       "      <th>oldPrice</th>\n",
       "      <th>unitPriceQuantity</th>\n",
       "      <th>offerDuration</th>\n",
       "      <th>category</th>\n",
       "      <th>subcategory</th>\n",
       "      <th>badges</th>\n",
       "      <th>description</th>\n",
       "      <th>properties</th>\n",
       "      <th>ingredients</th>\n",
       "      <th>preparationInstruction</th>\n",
       "      <th>hints</th>\n",
       "      <th>manufacturer</th>\n",
       "      <th>nutritionalValues</th>\n",
       "      <th>created</th>\n",
       "      <th>modified</th>\n",
       "    </tr>\n",
       "  </thead>\n",
       "  <tbody>\n",
       "    <tr>\n",
       "      <th>0</th>\n",
       "      <td>613515cdae5592de9045691b</td>\n",
       "      <td>Feines Gemüse-Allerlei 190g</td>\n",
       "      <td>BEBIVITA</td>\n",
       "      <td>0.65</td>\n",
       "      <td>190g Glas</td>\n",
       "      <td>0.0</td>\n",
       "      <td>Kaufland</td>\n",
       "      <td>0.65</td>\n",
       "      <td>0.0</td>\n",
       "      <td>100 g = 0,35 €</td>\n",
       "      <td>None</td>\n",
       "      <td>Baby &amp; Kind</td>\n",
       "      <td>Baby- &amp; Kindernahrung (350)</td>\n",
       "      <td>None</td>\n",
       "      <td>Beste Zutaten aus der Natur - Karotten, Kartof...</td>\n",
       "      <td>Altersempfehlung:ab 6. MonatFüllmenge:190.0Fre...</td>\n",
       "      <td>Gemüse 73% (Karotten, Kartoffeln, Erbsen), Was...</td>\n",
       "      <td></td>\n",
       "      <td>Bei Flüssigkeitsabsatz bitte umrühren. Benötig...</td>\n",
       "      <td>Bebivita GmbH</td>\n",
       "      <td>None</td>\n",
       "      <td>1630594239201</td>\n",
       "      <td>2021-09-03 18:00:51.834</td>\n",
       "    </tr>\n",
       "  </tbody>\n",
       "</table>\n",
       "</div>"
      ],
      "text/plain": [
       "                 product_id                        title     brand  price  \\\n",
       "0  613515cdae5592de9045691b  Feines Gemüse-Allerlei 190g  BEBIVITA   0.65   \n",
       "\n",
       "    quantity  discount    vendor  unitPrice  oldPrice unitPriceQuantity  \\\n",
       "0  190g Glas       0.0  Kaufland       0.65       0.0    100 g = 0,35 €   \n",
       "\n",
       "  offerDuration     category                  subcategory badges  \\\n",
       "0          None  Baby & Kind  Baby- & Kindernahrung (350)   None   \n",
       "\n",
       "                                         description  \\\n",
       "0  Beste Zutaten aus der Natur - Karotten, Kartof...   \n",
       "\n",
       "                                          properties  \\\n",
       "0  Altersempfehlung:ab 6. MonatFüllmenge:190.0Fre...   \n",
       "\n",
       "                                         ingredients preparationInstruction  \\\n",
       "0  Gemüse 73% (Karotten, Kartoffeln, Erbsen), Was...                          \n",
       "\n",
       "                                               hints   manufacturer  \\\n",
       "0  Bei Flüssigkeitsabsatz bitte umrühren. Benötig...  Bebivita GmbH   \n",
       "\n",
       "  nutritionalValues        created                modified  \n",
       "0              None  1630594239201 2021-09-03 18:00:51.834  "
      ]
     },
     "metadata": {},
     "execution_count": 45
    }
   ],
   "metadata": {}
  },
  {
   "cell_type": "code",
   "execution_count": 46,
   "source": [
    "# Dropping unnessary columns in bookmarks\n",
    "\n",
    "bookmarks_info = bookmarks_df.drop(columns= ['_id', 'created', 'active'])\n",
    "# Index(['_id', 'userId', 'active', 'created', 'productId'], dtype='object')"
   ],
   "outputs": [],
   "metadata": {}
  },
  {
   "cell_type": "code",
   "execution_count": 47,
   "source": [
    "# Renaming in bookmark's df\n",
    "bookmarks_info = bookmarks_info.rename(index=str, columns= {'userId': 'user_id', 'productId' : 'product_id'})\n",
    "bookmarks_info.head(3)"
   ],
   "outputs": [
    {
     "output_type": "execute_result",
     "data": {
      "text/html": [
       "<div>\n",
       "<style scoped>\n",
       "    .dataframe tbody tr th:only-of-type {\n",
       "        vertical-align: middle;\n",
       "    }\n",
       "\n",
       "    .dataframe tbody tr th {\n",
       "        vertical-align: top;\n",
       "    }\n",
       "\n",
       "    .dataframe thead th {\n",
       "        text-align: right;\n",
       "    }\n",
       "</style>\n",
       "<table border=\"1\" class=\"dataframe\">\n",
       "  <thead>\n",
       "    <tr style=\"text-align: right;\">\n",
       "      <th></th>\n",
       "      <th>user_id</th>\n",
       "      <th>product_id</th>\n",
       "      <th>modified</th>\n",
       "    </tr>\n",
       "  </thead>\n",
       "  <tbody>\n",
       "    <tr>\n",
       "      <th>0</th>\n",
       "      <td>613d0a82caf647c9cf94b860</td>\n",
       "      <td>613515dbae5592de90456bc4</td>\n",
       "      <td>NaT</td>\n",
       "    </tr>\n",
       "    <tr>\n",
       "      <th>1</th>\n",
       "      <td>613d0a82caf647c9cf94b860</td>\n",
       "      <td>613515d0ae5592de9045697e</td>\n",
       "      <td>NaT</td>\n",
       "    </tr>\n",
       "    <tr>\n",
       "      <th>2</th>\n",
       "      <td>613d0a82caf647c9cf94b860</td>\n",
       "      <td>613515d7ae5592de90456af7</td>\n",
       "      <td>NaT</td>\n",
       "    </tr>\n",
       "  </tbody>\n",
       "</table>\n",
       "</div>"
      ],
      "text/plain": [
       "                    user_id                product_id modified\n",
       "0  613d0a82caf647c9cf94b860  613515dbae5592de90456bc4      NaT\n",
       "1  613d0a82caf647c9cf94b860  613515d0ae5592de9045697e      NaT\n",
       "2  613d0a82caf647c9cf94b860  613515d7ae5592de90456af7      NaT"
      ]
     },
     "metadata": {},
     "execution_count": 47
    }
   ],
   "metadata": {}
  },
  {
   "cell_type": "code",
   "execution_count": 48,
   "source": [
    "# Changing the datatypes (Important for inner Join)\n",
    "bookmarks_info['user_id'] = bookmarks_info['user_id'].astype(str)\n",
    "users_info['user_id'] = users_info['user_id'].astype(str)\n",
    "\n"
   ],
   "outputs": [],
   "metadata": {}
  },
  {
   "cell_type": "markdown",
   "source": [
    "# Complete DataFrame (Inner Join):"
   ],
   "metadata": {}
  },
  {
   "cell_type": "code",
   "execution_count": 49,
   "source": [
    "# Inner Join\n",
    "df = pd.merge(users_info, bookmarks_info, on= 'user_id')\n",
    "df.head(3)"
   ],
   "outputs": [
    {
     "output_type": "execute_result",
     "data": {
      "text/html": [
       "<div>\n",
       "<style scoped>\n",
       "    .dataframe tbody tr th:only-of-type {\n",
       "        vertical-align: middle;\n",
       "    }\n",
       "\n",
       "    .dataframe tbody tr th {\n",
       "        vertical-align: top;\n",
       "    }\n",
       "\n",
       "    .dataframe thead th {\n",
       "        text-align: right;\n",
       "    }\n",
       "</style>\n",
       "<table border=\"1\" class=\"dataframe\">\n",
       "  <thead>\n",
       "    <tr style=\"text-align: right;\">\n",
       "      <th></th>\n",
       "      <th>user_id</th>\n",
       "      <th>gender</th>\n",
       "      <th>country</th>\n",
       "      <th>dateOfBirth</th>\n",
       "      <th>age</th>\n",
       "      <th>nationality</th>\n",
       "      <th>product_id</th>\n",
       "      <th>modified</th>\n",
       "    </tr>\n",
       "  </thead>\n",
       "  <tbody>\n",
       "    <tr>\n",
       "      <th>0</th>\n",
       "      <td>613d0a82caf647c9cf94b860</td>\n",
       "      <td>1</td>\n",
       "      <td>Namibia</td>\n",
       "      <td>1984-10-19T00:50:53.006Z</td>\n",
       "      <td>36</td>\n",
       "      <td>144</td>\n",
       "      <td>613515dbae5592de90456bc4</td>\n",
       "      <td>NaT</td>\n",
       "    </tr>\n",
       "    <tr>\n",
       "      <th>1</th>\n",
       "      <td>613d0a82caf647c9cf94b860</td>\n",
       "      <td>1</td>\n",
       "      <td>Namibia</td>\n",
       "      <td>1984-10-19T00:50:53.006Z</td>\n",
       "      <td>36</td>\n",
       "      <td>144</td>\n",
       "      <td>613515d0ae5592de9045697e</td>\n",
       "      <td>NaT</td>\n",
       "    </tr>\n",
       "    <tr>\n",
       "      <th>2</th>\n",
       "      <td>613d0a82caf647c9cf94b860</td>\n",
       "      <td>1</td>\n",
       "      <td>Namibia</td>\n",
       "      <td>1984-10-19T00:50:53.006Z</td>\n",
       "      <td>36</td>\n",
       "      <td>144</td>\n",
       "      <td>613515d7ae5592de90456af7</td>\n",
       "      <td>NaT</td>\n",
       "    </tr>\n",
       "  </tbody>\n",
       "</table>\n",
       "</div>"
      ],
      "text/plain": [
       "                    user_id  gender  country               dateOfBirth  age  \\\n",
       "0  613d0a82caf647c9cf94b860       1  Namibia  1984-10-19T00:50:53.006Z   36   \n",
       "1  613d0a82caf647c9cf94b860       1  Namibia  1984-10-19T00:50:53.006Z   36   \n",
       "2  613d0a82caf647c9cf94b860       1  Namibia  1984-10-19T00:50:53.006Z   36   \n",
       "\n",
       "   nationality                product_id modified  \n",
       "0          144  613515dbae5592de90456bc4      NaT  \n",
       "1          144  613515d0ae5592de9045697e      NaT  \n",
       "2          144  613515d7ae5592de90456af7      NaT  "
      ]
     },
     "metadata": {},
     "execution_count": 49
    }
   ],
   "metadata": {}
  },
  {
   "cell_type": "code",
   "execution_count": 50,
   "source": [
    "# Counting the number of unique users\n",
    "len(df.user_id.unique())"
   ],
   "outputs": [
    {
     "output_type": "execute_result",
     "data": {
      "text/plain": [
       "1000"
      ]
     },
     "metadata": {},
     "execution_count": 50
    }
   ],
   "metadata": {}
  },
  {
   "cell_type": "code",
   "execution_count": 51,
   "source": [
    "# Merging back the bookmarked products id to each specific users\n",
    "\n",
    "df_grouped_id = df.groupby('user_id').agg({\n",
    "    'gender':'first', \n",
    "    'age': 'first',\n",
    "    'nationality' : 'first',\n",
    "    'product_id': ', '.join, \n",
    "     }).reset_index()           "
   ],
   "outputs": [],
   "metadata": {}
  },
  {
   "cell_type": "code",
   "execution_count": 52,
   "source": [
    "df_grouped_id.shape"
   ],
   "outputs": [
    {
     "output_type": "execute_result",
     "data": {
      "text/plain": [
       "(1000, 5)"
      ]
     },
     "metadata": {},
     "execution_count": 52
    }
   ],
   "metadata": {}
  },
  {
   "cell_type": "code",
   "execution_count": 53,
   "source": [
    "# Final DF for using in ML\n",
    "# Here having all unique users with their personal information and bookmarked items\n",
    "df_grouped_id.head(3)"
   ],
   "outputs": [
    {
     "output_type": "execute_result",
     "data": {
      "text/html": [
       "<div>\n",
       "<style scoped>\n",
       "    .dataframe tbody tr th:only-of-type {\n",
       "        vertical-align: middle;\n",
       "    }\n",
       "\n",
       "    .dataframe tbody tr th {\n",
       "        vertical-align: top;\n",
       "    }\n",
       "\n",
       "    .dataframe thead th {\n",
       "        text-align: right;\n",
       "    }\n",
       "</style>\n",
       "<table border=\"1\" class=\"dataframe\">\n",
       "  <thead>\n",
       "    <tr style=\"text-align: right;\">\n",
       "      <th></th>\n",
       "      <th>user_id</th>\n",
       "      <th>gender</th>\n",
       "      <th>age</th>\n",
       "      <th>nationality</th>\n",
       "      <th>product_id</th>\n",
       "    </tr>\n",
       "  </thead>\n",
       "  <tbody>\n",
       "    <tr>\n",
       "      <th>0</th>\n",
       "      <td>613d0a82caf647c9cf94b860</td>\n",
       "      <td>1</td>\n",
       "      <td>36</td>\n",
       "      <td>144</td>\n",
       "      <td>613515dbae5592de90456bc4, 613515d0ae5592de9045...</td>\n",
       "    </tr>\n",
       "    <tr>\n",
       "      <th>1</th>\n",
       "      <td>613d0a82caf647c9cf94b861</td>\n",
       "      <td>1</td>\n",
       "      <td>61</td>\n",
       "      <td>229</td>\n",
       "      <td>613515dcae5592de90456bea, 613515e0ae5592de9045...</td>\n",
       "    </tr>\n",
       "    <tr>\n",
       "      <th>2</th>\n",
       "      <td>613d0a82caf647c9cf94b862</td>\n",
       "      <td>1</td>\n",
       "      <td>50</td>\n",
       "      <td>234</td>\n",
       "      <td>613515dbae5592de90456bbd, 613515d8ae5592de9045...</td>\n",
       "    </tr>\n",
       "  </tbody>\n",
       "</table>\n",
       "</div>"
      ],
      "text/plain": [
       "                    user_id  gender  age  nationality  \\\n",
       "0  613d0a82caf647c9cf94b860       1   36          144   \n",
       "1  613d0a82caf647c9cf94b861       1   61          229   \n",
       "2  613d0a82caf647c9cf94b862       1   50          234   \n",
       "\n",
       "                                          product_id  \n",
       "0  613515dbae5592de90456bc4, 613515d0ae5592de9045...  \n",
       "1  613515dcae5592de90456bea, 613515e0ae5592de9045...  \n",
       "2  613515dbae5592de90456bbd, 613515d8ae5592de9045...  "
      ]
     },
     "metadata": {},
     "execution_count": 53
    }
   ],
   "metadata": {}
  },
  {
   "cell_type": "code",
   "execution_count": 54,
   "source": [
    "df_grouped_id['product_id'][0]"
   ],
   "outputs": [
    {
     "output_type": "execute_result",
     "data": {
      "text/plain": [
       "'613515dbae5592de90456bc4, 613515d0ae5592de9045697e, 613515d7ae5592de90456af7, 613515d7ae5592de90456ae3, 613515dfae5592de90456c59, 613515ddae5592de90456c28, 613515deae5592de90456c54, 613515dcae5592de90456bd9, 613515e2ae5592de90456d21, 613515dbae5592de90456bd0, 613515dfae5592de90456c81, 613515d0ae5592de9045699f, 613515cdae5592de9045694e, 613515e2ae5592de90456d02, 613515dcae5592de90456bf6, 613515ceae5592de9045695c, 613515d7ae5592de90456af9, 613515d2ae5592de90456a02, 613515dfae5592de90456c65, 613515dfae5592de90456c79, 613515dfae5592de90456c8a, 613515d1ae5592de904569cb, 613515d5ae5592de90456a91, 613515e4ae5592de90456d7a, 613515d3ae5592de90456a30, 613515d5ae5592de90456a68, 613515d8ae5592de90456b01, 613515d3ae5592de90456a1c, 613515d5ae5592de90456a8f, 613515cdae5592de90456929'"
      ]
     },
     "metadata": {},
     "execution_count": 54
    }
   ],
   "metadata": {}
  },
  {
   "cell_type": "markdown",
   "source": [
    "# Machine Learning - Decision Tree"
   ],
   "metadata": {}
  },
  {
   "cell_type": "code",
   "execution_count": null,
   "source": [
    "# Spliting the dataset -> Training and Testing\n",
    "\n",
    "# X = Predictors (gender, nationality, age)\n",
    "X = df_grouped_id.drop(columns=['user_id', 'product_id' ])\n",
    "y = df_grouped_id['product_id']\n",
    "# y = y.to_list()\n",
    "y = y.astype('str')\n",
    "\n",
    "\n",
    "\n",
    "X_train, X_test, y_train, y_test = train_test_split(X, y, test_size = 0.2)\n",
    "\n",
    "\n",
    "model = DecisionTreeClassifier()\n",
    "model.fit(X_train, y_train)\n",
    "predictions = model.predict(X_test)\n",
    "predictions\n"
   ],
   "outputs": [],
   "metadata": {}
  },
  {
   "cell_type": "code",
   "execution_count": 56,
   "source": [
    "\n",
    "# score = accuracy_score(y_test, predictions)\n",
    "# score"
   ],
   "outputs": [],
   "metadata": {}
  },
  {
   "cell_type": "code",
   "execution_count": 57,
   "source": [
    "# cm = confusion_matrix(y_test, predictions)"
   ],
   "outputs": [],
   "metadata": {}
  },
  {
   "cell_type": "code",
   "execution_count": 58,
   "source": [
    "# cm"
   ],
   "outputs": [],
   "metadata": {}
  },
  {
   "cell_type": "code",
   "execution_count": 59,
   "source": [
    "\n",
    "# def accuracy(confusion_matrix):\n",
    "#     diagonal_sum = confusion_matrix.trace()\n",
    "#     sum_of_all_elements = confusion_matrix.sum()\n",
    "#     return diagonal_sum / sum_of_all_elements "
   ],
   "outputs": [],
   "metadata": {}
  },
  {
   "cell_type": "code",
   "execution_count": 60,
   "source": [
    "#accuracy(cm)\n"
   ],
   "outputs": [],
   "metadata": {}
  },
  {
   "cell_type": "code",
   "execution_count": 61,
   "source": [
    "joblib.dump(model, 'V3_product-recommender.joblib')\n"
   ],
   "outputs": [
    {
     "output_type": "execute_result",
     "data": {
      "text/plain": [
       "['V3_product-recommender.joblib']"
      ]
     },
     "metadata": {},
     "execution_count": 61
    }
   ],
   "metadata": {}
  },
  {
   "cell_type": "code",
   "execution_count": null,
   "source": [
    "model_saved = joblib.load('V3_product-recommender.joblib')\n",
    "\n",
    "predictions = model_saved.predict(X_test)\n",
    "predictions"
   ],
   "outputs": [],
   "metadata": {}
  },
  {
   "cell_type": "code",
   "execution_count": 63,
   "source": [
    "# Creat tree\n",
    "tree.export_graphviz(model, \n",
    "out_file='V3_product-recommender.dot', \n",
    "feature_names=['gender', 'age', 'nationality'], \n",
    "class_names = sorted(y.unique()), \n",
    "label='all', \n",
    "rounded = True, \n",
    "filled= True)"
   ],
   "outputs": [],
   "metadata": {}
  }
 ],
 "metadata": {
  "orig_nbformat": 4,
  "language_info": {
   "name": "python",
   "version": "3.8.0",
   "mimetype": "text/x-python",
   "codemirror_mode": {
    "name": "ipython",
    "version": 3
   },
   "pygments_lexer": "ipython3",
   "nbconvert_exporter": "python",
   "file_extension": ".py"
  },
  "kernelspec": {
   "name": "python3",
   "display_name": "Python 3.8.0 64-bit"
  },
  "interpreter": {
   "hash": "0adcc2737ebf6a4a119f135174df96668767fca1ef1112612db5ecadf2b6d608"
  }
 },
 "nbformat": 4,
 "nbformat_minor": 2
}