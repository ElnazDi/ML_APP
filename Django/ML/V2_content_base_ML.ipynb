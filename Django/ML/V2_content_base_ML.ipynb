{
 "cells": [
  {
   "cell_type": "code",
   "execution_count": 3,
   "source": [
    "import config\n",
    "import ssl\n",
    "import nltk\n",
    "nltk.download('stopwords')\n",
    "\n",
    "\n",
    "from pymongo import MongoClient\n",
    "\n",
    "import pandas as pd\n",
    "import numpy as np\n",
    "\n",
    "pd.set_option('display.max_rows', None)\n",
    "pd.set_option('display.max_columns', None)\n",
    "# pd.set_option('display.max_colwidth', None)\n",
    "\n",
    "from sklearn.feature_extraction.text import TfidfVectorizer\n",
    "from sklearn.metrics.pairwise import linear_kernel\n",
    "\n",
    "from nltk.corpus import stopwords\n",
    "from sklearn.feature_extraction.text import CountVectorizer\n",
    "\n",
    "\n",
    "# Import linear kernel\n",
    "from sklearn.metrics.pairwise import linear_kernel\n",
    "\n",
    "\n"
   ],
   "outputs": [
    {
     "output_type": "stream",
     "name": "stderr",
     "text": [
      "[nltk_data] Downloading package stopwords to\n",
      "[nltk_data]     /Users/dehkharghanielnaz/nltk_data...\n",
      "[nltk_data]   Package stopwords is already up-to-date!\n",
      "/Library/Frameworks/Python.framework/Versions/3.8/lib/python3.8/site-packages/requests/__init__.py:89: RequestsDependencyWarning: urllib3 (1.26.4) or chardet (3.0.4) doesn't match a supported version!\n",
      "  warnings.warn(\"urllib3 ({}) or chardet ({}) doesn't match a supported \"\n"
     ]
    }
   ],
   "metadata": {}
  },
  {
   "cell_type": "code",
   "execution_count": 4,
   "source": [
    "mongo_url = config.MONGO_URL\n",
    "client = MongoClient(mongo_url, ssl_cert_reqs=ssl.CERT_NONE)\n",
    "db = client['vendors_data_db']\n",
    "\n",
    "# Three different collections (1. Users 2. Products 3. Bookmarks)\n",
    "collection_users = db.users_col\n",
    "collection_product = db.products\n",
    "collection_bookmarks = db.bookmarks_col"
   ],
   "outputs": [],
   "metadata": {}
  },
  {
   "cell_type": "code",
   "execution_count": 5,
   "source": [
    "# changing the collections to Dataframes\n",
    "users_df = pd.DataFrame(list(collection_users.find()))\n",
    "products_df = pd.DataFrame(list(collection_product.find()))\n",
    "bookmarks_df = pd.DataFrame(list(collection_bookmarks.find()))"
   ],
   "outputs": [],
   "metadata": {}
  },
  {
   "cell_type": "code",
   "execution_count": 6,
   "source": [
    "# User dataframe\n",
    "users_df.head(1)\n"
   ],
   "outputs": [
    {
     "output_type": "execute_result",
     "data": {
      "text/plain": [
       "                        _id firstName lastName  gender             phone  \\\n",
       "0  6133af8bc4a7e1daa5fd78e0      Lisa    Roach  Female  700.110.0724x387   \n",
       "\n",
       "                  email                                           password  \\\n",
       "0  Lisa.Roach@gmail.com  $2b$10$UXmmmXeFmsH36HwkwEEsFeCgTAdMlrcY2o4PeNK...   \n",
       "\n",
       "  countryOfOrigin dateOfBirth  \n",
       "0         Georgia  1995-04-26  "
      ],
      "text/html": [
       "<div>\n",
       "<style scoped>\n",
       "    .dataframe tbody tr th:only-of-type {\n",
       "        vertical-align: middle;\n",
       "    }\n",
       "\n",
       "    .dataframe tbody tr th {\n",
       "        vertical-align: top;\n",
       "    }\n",
       "\n",
       "    .dataframe thead th {\n",
       "        text-align: right;\n",
       "    }\n",
       "</style>\n",
       "<table border=\"1\" class=\"dataframe\">\n",
       "  <thead>\n",
       "    <tr style=\"text-align: right;\">\n",
       "      <th></th>\n",
       "      <th>_id</th>\n",
       "      <th>firstName</th>\n",
       "      <th>lastName</th>\n",
       "      <th>gender</th>\n",
       "      <th>phone</th>\n",
       "      <th>email</th>\n",
       "      <th>password</th>\n",
       "      <th>countryOfOrigin</th>\n",
       "      <th>dateOfBirth</th>\n",
       "    </tr>\n",
       "  </thead>\n",
       "  <tbody>\n",
       "    <tr>\n",
       "      <th>0</th>\n",
       "      <td>6133af8bc4a7e1daa5fd78e0</td>\n",
       "      <td>Lisa</td>\n",
       "      <td>Roach</td>\n",
       "      <td>Female</td>\n",
       "      <td>700.110.0724x387</td>\n",
       "      <td>Lisa.Roach@gmail.com</td>\n",
       "      <td>$2b$10$UXmmmXeFmsH36HwkwEEsFeCgTAdMlrcY2o4PeNK...</td>\n",
       "      <td>Georgia</td>\n",
       "      <td>1995-04-26</td>\n",
       "    </tr>\n",
       "  </tbody>\n",
       "</table>\n",
       "</div>"
      ]
     },
     "metadata": {},
     "execution_count": 6
    }
   ],
   "metadata": {}
  },
  {
   "cell_type": "code",
   "execution_count": 7,
   "source": [
    "# Bookmark dataframe\n",
    "bookmarks_df.head(1)"
   ],
   "outputs": [
    {
     "output_type": "execute_result",
     "data": {
      "text/plain": [
       "                        _id                    userId  active  \\\n",
       "0  6135b4cbf810533516c4639f  6133af8dc4a7e1daa5fd7923    True   \n",
       "\n",
       "              created                 productId modified  \n",
       "0 2021-09-06 08:27:23  6132464b75e744d165bf2b08     None  "
      ],
      "text/html": [
       "<div>\n",
       "<style scoped>\n",
       "    .dataframe tbody tr th:only-of-type {\n",
       "        vertical-align: middle;\n",
       "    }\n",
       "\n",
       "    .dataframe tbody tr th {\n",
       "        vertical-align: top;\n",
       "    }\n",
       "\n",
       "    .dataframe thead th {\n",
       "        text-align: right;\n",
       "    }\n",
       "</style>\n",
       "<table border=\"1\" class=\"dataframe\">\n",
       "  <thead>\n",
       "    <tr style=\"text-align: right;\">\n",
       "      <th></th>\n",
       "      <th>_id</th>\n",
       "      <th>userId</th>\n",
       "      <th>active</th>\n",
       "      <th>created</th>\n",
       "      <th>productId</th>\n",
       "      <th>modified</th>\n",
       "    </tr>\n",
       "  </thead>\n",
       "  <tbody>\n",
       "    <tr>\n",
       "      <th>0</th>\n",
       "      <td>6135b4cbf810533516c4639f</td>\n",
       "      <td>6133af8dc4a7e1daa5fd7923</td>\n",
       "      <td>True</td>\n",
       "      <td>2021-09-06 08:27:23</td>\n",
       "      <td>6132464b75e744d165bf2b08</td>\n",
       "      <td>None</td>\n",
       "    </tr>\n",
       "  </tbody>\n",
       "</table>\n",
       "</div>"
      ]
     },
     "metadata": {},
     "execution_count": 7
    }
   ],
   "metadata": {}
  },
  {
   "cell_type": "code",
   "execution_count": 8,
   "source": [
    "# Products dataframe\n",
    "products_df.head(1)\n",
    "# products_df.shape #(3967, 26)\n",
    "products_df = products_df.drop_duplicates(subset=['title'])"
   ],
   "outputs": [],
   "metadata": {}
  },
  {
   "cell_type": "code",
   "execution_count": 9,
   "source": [
    "users_df.columns"
   ],
   "outputs": [
    {
     "output_type": "execute_result",
     "data": {
      "text/plain": [
       "Index(['_id', 'firstName', 'lastName', 'gender', 'phone', 'email', 'password',\n",
       "       'countryOfOrigin', 'dateOfBirth'],\n",
       "      dtype='object')"
      ]
     },
     "metadata": {},
     "execution_count": 9
    }
   ],
   "metadata": {}
  },
  {
   "cell_type": "code",
   "execution_count": 10,
   "source": [
    "products_df.columns"
   ],
   "outputs": [
    {
     "output_type": "execute_result",
     "data": {
      "text/plain": [
       "Index(['_id', 'title', 'brand', 'price', 'quantity', 'discount', 'image',\n",
       "       'vendor', 'unitPrice', 'oldPrice', 'unitPriceQuantity', 'offerDuration',\n",
       "       'category', 'subcategory', 'badges', 'thumbnailImgs', 'description',\n",
       "       'properties', 'ingredients', 'preparationInstruction', 'hints',\n",
       "       'manufacturer', 'nutritionalValues', 'status', 'created', 'modified'],\n",
       "      dtype='object')"
      ]
     },
     "metadata": {},
     "execution_count": 10
    }
   ],
   "metadata": {}
  },
  {
   "cell_type": "code",
   "execution_count": 11,
   "source": [
    "bookmarks_df.columns"
   ],
   "outputs": [
    {
     "output_type": "execute_result",
     "data": {
      "text/plain": [
       "Index(['_id', 'userId', 'active', 'created', 'productId', 'modified'], dtype='object')"
      ]
     },
     "metadata": {},
     "execution_count": 11
    }
   ],
   "metadata": {}
  },
  {
   "cell_type": "markdown",
   "source": [
    "# Data Cleaning"
   ],
   "metadata": {}
  },
  {
   "cell_type": "code",
   "execution_count": 12,
   "source": [
    "# Dropping unnessary columns in users\n",
    "users_info = users_df.drop(columns= ['firstName', 'lastName', 'phone' ,'email', 'password'])"
   ],
   "outputs": [],
   "metadata": {}
  },
  {
   "cell_type": "code",
   "execution_count": 13,
   "source": [
    "# Renaming in user's df\n",
    "users_info = users_info.rename(index=str, columns= {'_id':'user_id'})\n",
    "users_info.head(1)"
   ],
   "outputs": [
    {
     "output_type": "execute_result",
     "data": {
      "text/plain": [
       "                    user_id  gender countryOfOrigin dateOfBirth\n",
       "0  6133af8bc4a7e1daa5fd78e0  Female         Georgia  1995-04-26"
      ],
      "text/html": [
       "<div>\n",
       "<style scoped>\n",
       "    .dataframe tbody tr th:only-of-type {\n",
       "        vertical-align: middle;\n",
       "    }\n",
       "\n",
       "    .dataframe tbody tr th {\n",
       "        vertical-align: top;\n",
       "    }\n",
       "\n",
       "    .dataframe thead th {\n",
       "        text-align: right;\n",
       "    }\n",
       "</style>\n",
       "<table border=\"1\" class=\"dataframe\">\n",
       "  <thead>\n",
       "    <tr style=\"text-align: right;\">\n",
       "      <th></th>\n",
       "      <th>user_id</th>\n",
       "      <th>gender</th>\n",
       "      <th>countryOfOrigin</th>\n",
       "      <th>dateOfBirth</th>\n",
       "    </tr>\n",
       "  </thead>\n",
       "  <tbody>\n",
       "    <tr>\n",
       "      <th>0</th>\n",
       "      <td>6133af8bc4a7e1daa5fd78e0</td>\n",
       "      <td>Female</td>\n",
       "      <td>Georgia</td>\n",
       "      <td>1995-04-26</td>\n",
       "    </tr>\n",
       "  </tbody>\n",
       "</table>\n",
       "</div>"
      ]
     },
     "metadata": {},
     "execution_count": 13
    }
   ],
   "metadata": {}
  },
  {
   "cell_type": "code",
   "execution_count": 14,
   "source": [
    "# Dropping unnessary columns in products\n",
    "products_info = products_df.drop(columns= ['image', 'thumbnailImgs', 'status'])\n"
   ],
   "outputs": [],
   "metadata": {}
  },
  {
   "cell_type": "code",
   "execution_count": 15,
   "source": [
    "# Renaming in product's df\n",
    "\n",
    "products_info = products_info.rename(index=str, columns= {'_id':'product_id'})\n",
    "#products_info = products_info[products_info['subcategory'] == 'Baby- & Kindernahrung (350)']\n",
    "products_info.head(3)\n",
    "products_info.shape"
   ],
   "outputs": [
    {
     "output_type": "execute_result",
     "data": {
      "text/plain": [
       "(3733, 23)"
      ]
     },
     "metadata": {},
     "execution_count": 15
    }
   ],
   "metadata": {}
  },
  {
   "cell_type": "code",
   "execution_count": 16,
   "source": [
    "# Dropping unnessary columns in bookmarks\n",
    "bookmarks_info = bookmarks_df.drop(columns= ['_id','created', 'modified','active'])"
   ],
   "outputs": [],
   "metadata": {}
  },
  {
   "cell_type": "code",
   "execution_count": 17,
   "source": [
    "# Renaming in bookmark's df\n",
    "bookmarks_info = bookmarks_info.rename(index=str, columns= {'_id':'bookmarks_id', 'userId': 'user_id', 'productId' : 'product_id'})\n",
    "bookmarks_info.head(3)"
   ],
   "outputs": [
    {
     "output_type": "execute_result",
     "data": {
      "text/plain": [
       "                    user_id                product_id\n",
       "0  6133af8dc4a7e1daa5fd7923  6132464b75e744d165bf2b08\n",
       "1  6133af8dc4a7e1daa5fd7928  6132465275e744d165bf2ca1\n",
       "2  6133af8ec4a7e1daa5fd794b  6132466275e744d165bf2faa"
      ],
      "text/html": [
       "<div>\n",
       "<style scoped>\n",
       "    .dataframe tbody tr th:only-of-type {\n",
       "        vertical-align: middle;\n",
       "    }\n",
       "\n",
       "    .dataframe tbody tr th {\n",
       "        vertical-align: top;\n",
       "    }\n",
       "\n",
       "    .dataframe thead th {\n",
       "        text-align: right;\n",
       "    }\n",
       "</style>\n",
       "<table border=\"1\" class=\"dataframe\">\n",
       "  <thead>\n",
       "    <tr style=\"text-align: right;\">\n",
       "      <th></th>\n",
       "      <th>user_id</th>\n",
       "      <th>product_id</th>\n",
       "    </tr>\n",
       "  </thead>\n",
       "  <tbody>\n",
       "    <tr>\n",
       "      <th>0</th>\n",
       "      <td>6133af8dc4a7e1daa5fd7923</td>\n",
       "      <td>6132464b75e744d165bf2b08</td>\n",
       "    </tr>\n",
       "    <tr>\n",
       "      <th>1</th>\n",
       "      <td>6133af8dc4a7e1daa5fd7928</td>\n",
       "      <td>6132465275e744d165bf2ca1</td>\n",
       "    </tr>\n",
       "    <tr>\n",
       "      <th>2</th>\n",
       "      <td>6133af8ec4a7e1daa5fd794b</td>\n",
       "      <td>6132466275e744d165bf2faa</td>\n",
       "    </tr>\n",
       "  </tbody>\n",
       "</table>\n",
       "</div>"
      ]
     },
     "metadata": {},
     "execution_count": 17
    }
   ],
   "metadata": {}
  },
  {
   "cell_type": "code",
   "execution_count": 18,
   "source": [
    "# Changing the datatypes (Important for inner Join)\n",
    "bookmarks_info['user_id'] = bookmarks_info['user_id'].astype(str)\n",
    "users_info['user_id'] = users_info['user_id'].astype(str)"
   ],
   "outputs": [],
   "metadata": {}
  },
  {
   "cell_type": "markdown",
   "source": [
    "# Merging Dataframes Users and their Bookmarks"
   ],
   "metadata": {}
  },
  {
   "cell_type": "code",
   "execution_count": 19,
   "source": [
    "# Inner Join\n",
    "df = pd.merge(users_info, bookmarks_info, on= 'user_id')\n",
    "df.head(7)"
   ],
   "outputs": [
    {
     "output_type": "execute_result",
     "data": {
      "text/plain": [
       "                    user_id  gender     countryOfOrigin dateOfBirth  \\\n",
       "0  6133af8bc4a7e1daa5fd78e1  Female  Russian Federation  2019-03-19   \n",
       "1  6133af8bc4a7e1daa5fd78e2    Male              Greece  2001-03-15   \n",
       "2  6133af8bc4a7e1daa5fd78e2    Male              Greece  2001-03-15   \n",
       "3  6133af8bc4a7e1daa5fd78e2    Male              Greece  2001-03-15   \n",
       "4  6133af8bc4a7e1daa5fd78e2    Male              Greece  2001-03-15   \n",
       "5  6133af8bc4a7e1daa5fd78e2    Male              Greece  2001-03-15   \n",
       "6  6133af8bc4a7e1daa5fd78e3    Male       French Guiana  1994-04-29   \n",
       "\n",
       "                 product_id  \n",
       "0  6132462875e744d165bf245d  \n",
       "1  6132462d75e744d165bf255f  \n",
       "2  6132462375e744d165bf236c  \n",
       "3  6132466975e744d165bf30ef  \n",
       "4  6132465f75e744d165bf2f25  \n",
       "5  6132462c75e744d165bf251e  \n",
       "6  6132463275e744d165bf264f  "
      ],
      "text/html": [
       "<div>\n",
       "<style scoped>\n",
       "    .dataframe tbody tr th:only-of-type {\n",
       "        vertical-align: middle;\n",
       "    }\n",
       "\n",
       "    .dataframe tbody tr th {\n",
       "        vertical-align: top;\n",
       "    }\n",
       "\n",
       "    .dataframe thead th {\n",
       "        text-align: right;\n",
       "    }\n",
       "</style>\n",
       "<table border=\"1\" class=\"dataframe\">\n",
       "  <thead>\n",
       "    <tr style=\"text-align: right;\">\n",
       "      <th></th>\n",
       "      <th>user_id</th>\n",
       "      <th>gender</th>\n",
       "      <th>countryOfOrigin</th>\n",
       "      <th>dateOfBirth</th>\n",
       "      <th>product_id</th>\n",
       "    </tr>\n",
       "  </thead>\n",
       "  <tbody>\n",
       "    <tr>\n",
       "      <th>0</th>\n",
       "      <td>6133af8bc4a7e1daa5fd78e1</td>\n",
       "      <td>Female</td>\n",
       "      <td>Russian Federation</td>\n",
       "      <td>2019-03-19</td>\n",
       "      <td>6132462875e744d165bf245d</td>\n",
       "    </tr>\n",
       "    <tr>\n",
       "      <th>1</th>\n",
       "      <td>6133af8bc4a7e1daa5fd78e2</td>\n",
       "      <td>Male</td>\n",
       "      <td>Greece</td>\n",
       "      <td>2001-03-15</td>\n",
       "      <td>6132462d75e744d165bf255f</td>\n",
       "    </tr>\n",
       "    <tr>\n",
       "      <th>2</th>\n",
       "      <td>6133af8bc4a7e1daa5fd78e2</td>\n",
       "      <td>Male</td>\n",
       "      <td>Greece</td>\n",
       "      <td>2001-03-15</td>\n",
       "      <td>6132462375e744d165bf236c</td>\n",
       "    </tr>\n",
       "    <tr>\n",
       "      <th>3</th>\n",
       "      <td>6133af8bc4a7e1daa5fd78e2</td>\n",
       "      <td>Male</td>\n",
       "      <td>Greece</td>\n",
       "      <td>2001-03-15</td>\n",
       "      <td>6132466975e744d165bf30ef</td>\n",
       "    </tr>\n",
       "    <tr>\n",
       "      <th>4</th>\n",
       "      <td>6133af8bc4a7e1daa5fd78e2</td>\n",
       "      <td>Male</td>\n",
       "      <td>Greece</td>\n",
       "      <td>2001-03-15</td>\n",
       "      <td>6132465f75e744d165bf2f25</td>\n",
       "    </tr>\n",
       "    <tr>\n",
       "      <th>5</th>\n",
       "      <td>6133af8bc4a7e1daa5fd78e2</td>\n",
       "      <td>Male</td>\n",
       "      <td>Greece</td>\n",
       "      <td>2001-03-15</td>\n",
       "      <td>6132462c75e744d165bf251e</td>\n",
       "    </tr>\n",
       "    <tr>\n",
       "      <th>6</th>\n",
       "      <td>6133af8bc4a7e1daa5fd78e3</td>\n",
       "      <td>Male</td>\n",
       "      <td>French Guiana</td>\n",
       "      <td>1994-04-29</td>\n",
       "      <td>6132463275e744d165bf264f</td>\n",
       "    </tr>\n",
       "  </tbody>\n",
       "</table>\n",
       "</div>"
      ]
     },
     "metadata": {},
     "execution_count": 19
    }
   ],
   "metadata": {}
  },
  {
   "cell_type": "code",
   "execution_count": 20,
   "source": [
    "# put all user bookmarks infront of him/her\n",
    "df_grouped_id = df.groupby('user_id').agg({\n",
    "    'product_id': ', '.join, \n",
    "     }).reset_index() "
   ],
   "outputs": [],
   "metadata": {}
  },
  {
   "cell_type": "code",
   "execution_count": 21,
   "source": [
    "# Final DF for using in ML\n",
    "# Here having all unique users with their personal information and bookmarked items\n",
    "df_grouped_id.head(3)"
   ],
   "outputs": [
    {
     "output_type": "execute_result",
     "data": {
      "text/plain": [
       "                    user_id                                         product_id\n",
       "0  6133af8bc4a7e1daa5fd78e1                           6132462875e744d165bf245d\n",
       "1  6133af8bc4a7e1daa5fd78e2  6132462d75e744d165bf255f, 6132462375e744d165bf...\n",
       "2  6133af8bc4a7e1daa5fd78e3  6132463275e744d165bf264f, 6132464c75e744d165bf..."
      ],
      "text/html": [
       "<div>\n",
       "<style scoped>\n",
       "    .dataframe tbody tr th:only-of-type {\n",
       "        vertical-align: middle;\n",
       "    }\n",
       "\n",
       "    .dataframe tbody tr th {\n",
       "        vertical-align: top;\n",
       "    }\n",
       "\n",
       "    .dataframe thead th {\n",
       "        text-align: right;\n",
       "    }\n",
       "</style>\n",
       "<table border=\"1\" class=\"dataframe\">\n",
       "  <thead>\n",
       "    <tr style=\"text-align: right;\">\n",
       "      <th></th>\n",
       "      <th>user_id</th>\n",
       "      <th>product_id</th>\n",
       "    </tr>\n",
       "  </thead>\n",
       "  <tbody>\n",
       "    <tr>\n",
       "      <th>0</th>\n",
       "      <td>6133af8bc4a7e1daa5fd78e1</td>\n",
       "      <td>6132462875e744d165bf245d</td>\n",
       "    </tr>\n",
       "    <tr>\n",
       "      <th>1</th>\n",
       "      <td>6133af8bc4a7e1daa5fd78e2</td>\n",
       "      <td>6132462d75e744d165bf255f, 6132462375e744d165bf...</td>\n",
       "    </tr>\n",
       "    <tr>\n",
       "      <th>2</th>\n",
       "      <td>6133af8bc4a7e1daa5fd78e3</td>\n",
       "      <td>6132463275e744d165bf264f, 6132464c75e744d165bf...</td>\n",
       "    </tr>\n",
       "  </tbody>\n",
       "</table>\n",
       "</div>"
      ]
     },
     "metadata": {},
     "execution_count": 21
    }
   ],
   "metadata": {}
  },
  {
   "cell_type": "code",
   "execution_count": null,
   "source": [
    "products_info.shape"
   ],
   "outputs": [],
   "metadata": {}
  },
  {
   "cell_type": "markdown",
   "source": [
    "# Machine Learning:"
   ],
   "metadata": {}
  },
  {
   "cell_type": "code",
   "execution_count": 22,
   "source": [
    "\n",
    "products_info.head(20)['ingredients']"
   ],
   "outputs": [
    {
     "output_type": "execute_result",
     "data": {
      "text/plain": [
       "0     Gemüse 73% (Karotten, Kartoffeln, Erbsen), Was...\n",
       "1     MILCHZUBEREITUNG (MILCH* 50%, Wasser, ENTRAHMT...\n",
       "2     Gemüse* 77% (Karotten*, Tomaten*, Kartoffeln* ...\n",
       "3     Birnenpüree* 64%, Bananenpüree* 28%, Orangensa...\n",
       "4     Gemüse* 75% (Karotten, Kartoffeln, Erbsen, Gem...\n",
       "5     Wasser, Gemüse* 37,7% (Karotten 20%, Pastinake...\n",
       "6     Karotten* 40%, Wasser, Reis* gekocht 13,2%, (W...\n",
       "7     WEIZENMEHL 65,5%, Zucker, Palmöl, GERSTENMALZE...\n",
       "8     Früchte* 59% (säurearmer Apfelsaft* aus Apfels...\n",
       "9     Gemüse* 45% (Kartoffeln* 19%, Karotten*, Kürbi...\n",
       "10    Gemüse* 57% (Tomaten *28%, Karotten*, Pastinak...\n",
       "11    Gemüse* 44% (Tomaten*, Karotten*, SELLERIE*, Z...\n",
       "12                  Äpfel*. *aus biologischer Erzeugung\n",
       "13    Früchte* 50% (Pfirsiche* 18%, Aprikosen* 12%, ...\n",
       "14    Gemüse*55% (Kartoffeln* 38%, Karotten* 10%, La...\n",
       "15    Zutaten: Gemüse* 67% (Kartoffeln* 32%, Karotte...\n",
       "16    Zutaten: Gefriergetrocknete Mangostücke* (100%...\n",
       "17    Zutaten: Pürierte Banane (43%), pürierter Pfir...\n",
       "18                                                     \n",
       "19                                                     \n",
       "Name: ingredients, dtype: object"
      ]
     },
     "metadata": {},
     "execution_count": 22
    }
   ],
   "metadata": {}
  },
  {
   "cell_type": "code",
   "execution_count": 23,
   "source": [
    "# Stopwords for German Language\n",
    "german_stop_words = stopwords.words('german')\n",
    "\n",
    "# Define a TF-IDF vectorizer object. Remove all german stop words.\n",
    "tfidf = TfidfVectorizer(stop_words= german_stop_words)\n",
    "\n",
    "\n",
    "# Replay NaN with an empty string\n",
    "products_info['ingredients'] = products_info['ingredients'].fillna('')\n",
    "\n",
    "# Construct the required TF-IDF matrix by fitting and transforming data\n",
    "tfidf_matrix = tfidf.fit_transform(products_info['ingredients'])\n",
    "\n",
    "# Output the shape of tfidf_matrix\n",
    "tfidf_matrix.shape\n",
    "\n"
   ],
   "outputs": [
    {
     "output_type": "execute_result",
     "data": {
      "text/plain": [
       "(3733, 5247)"
      ]
     },
     "metadata": {},
     "execution_count": 23
    }
   ],
   "metadata": {}
  },
  {
   "cell_type": "code",
   "execution_count": 24,
   "source": [
    "# Compute the cosine similarity matrix\n",
    "cosine_sim = linear_kernel(tfidf_matrix, tfidf_matrix)"
   ],
   "outputs": [],
   "metadata": {}
  },
  {
   "cell_type": "code",
   "execution_count": 25,
   "source": [
    "# Constract a reverse map of indices and product titles\n",
    "indices = pd.Series(products_info.index, index=products_info['title']).drop_duplicates()\n",
    "# print(indices.head(5))"
   ],
   "outputs": [],
   "metadata": {}
  },
  {
   "cell_type": "code",
   "execution_count": 26,
   "source": [
    "# Function that takes in product title as input and outputs most similar product\n",
    "def get_recommendations(title, cosine_sim = cosine_sim):\n",
    "    # Get the index of the product that matches the title\n",
    "    idx = indices[title]\n",
    "    # print([idx])\n",
    "\n",
    "    # Get the pairwise similarity scores of all products with that product\n",
    "    sim_scores = list(enumerate(cosine_sim[int(idx)]))\n",
    "    #print(sim_scores)\n",
    "\n",
    "    # Sort the movies based on the similarity score\n",
    "    sim_scores = sorted(sim_scores, key= lambda x:x[1], reverse=True)\n",
    "\n",
    "    # Get the scores of the 10 most similar movies\n",
    "    sim_scores = sim_scores[1:4]\n",
    "\n",
    "    # Get the movie indices \n",
    "    product_indices = [i[0] for i in sim_scores]\n",
    "\n",
    "    # Return the top 10 most similar movies\n",
    "    return products_info['title'].iloc[product_indices]\n"
   ],
   "outputs": [],
   "metadata": {}
  },
  {
   "cell_type": "code",
   "execution_count": 27,
   "source": [
    " \n",
    "get_recommendations('Kinderkeks 180g')"
   ],
   "outputs": [
    {
     "output_type": "execute_result",
     "data": {
      "text/plain": [
       "112                  Milchbrei Grieß ab dem 6.Monat 400g\n",
       "150       Milchbrei Gute Nacht Grieß ab dem 4.Monat 400g\n",
       "232    Milchbrei Apfel/Banane/Joghurt ab dem 6.Monat ...\n",
       "Name: title, dtype: object"
      ]
     },
     "metadata": {},
     "execution_count": 27
    }
   ],
   "metadata": {}
  },
  {
   "cell_type": "markdown",
   "source": [
    "# Pushing the recommended items into MongoDB"
   ],
   "metadata": {}
  },
  {
   "cell_type": "code",
   "execution_count": null,
   "source": [
    "collection = db.content_base_recommendations\n",
    "\n",
    "for index, row in products_info.iterrows():\n",
    "\n",
    "    recommended_products = get_recommendations(row['title'])\n",
    "    p = []\n",
    "    for rprod in recommended_products:\n",
    "        pr = products_info[products_info['title'] == rprod]\n",
    "        # print(pr)\n",
    "        # print(str(pr.product_id[0]))\n",
    "        p.append(str(pr.product_id[0]))\n",
    "   \n",
    "    mydict = {'productId': str(row['product_id']),'recommendedProducts':p}\n",
    "    collection.insert_one(mydict);\n"
   ],
   "outputs": [],
   "metadata": {}
  }
 ],
 "metadata": {
  "orig_nbformat": 4,
  "language_info": {
   "name": "python",
   "version": "3.8.0",
   "mimetype": "text/x-python",
   "codemirror_mode": {
    "name": "ipython",
    "version": 3
   },
   "pygments_lexer": "ipython3",
   "nbconvert_exporter": "python",
   "file_extension": ".py"
  },
  "kernelspec": {
   "name": "python3",
   "display_name": "Python 3.8.0 64-bit"
  },
  "interpreter": {
   "hash": "0adcc2737ebf6a4a119f135174df96668767fca1ef1112612db5ecadf2b6d608"
  }
 },
 "nbformat": 4,
 "nbformat_minor": 2
}