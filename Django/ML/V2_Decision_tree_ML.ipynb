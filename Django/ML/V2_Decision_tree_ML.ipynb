{
 "cells": [
  {
   "cell_type": "code",
   "execution_count": 350,
   "source": [
    "import config\n",
    "import ssl\n",
    "\n",
    "from pymongo import MongoClient\n",
    "\n",
    "import pandas as pd\n",
    "import numpy as np\n",
    "from pandas import DataFrame\n",
    "\n",
    "from datetime import datetime, date\n",
    "\n",
    "from sklearn.tree import DecisionTreeClassifier\n",
    "from sklearn.tree import DecisionTreeRegressor\n",
    "from sklearn.ensemble import RandomForestClassifier\n",
    "\n",
    "from sklearn.model_selection import train_test_split\n",
    "from sklearn.metrics import accuracy_score\n",
    "from sklearn.externals import joblib\n",
    "from sklearn import tree\n",
    "from sklearn.metrics import confusion_matrix\n",
    "from sklearn.multioutput import MultiOutputRegressor\n",
    "from sklearn.ensemble import GradientBoostingRegressor\n",
    "# Import label encoder \n",
    "from sklearn import preprocessing\n",
    "\n",
    "\n",
    "pd.set_option('display.max_rows', None)\n",
    "pd.set_option('display.max_columns', None)"
   ],
   "outputs": [],
   "metadata": {}
  },
  {
   "cell_type": "markdown",
   "source": [
    "# Importing 3 Collections (Users - Bookmarks - Products)"
   ],
   "metadata": {}
  },
  {
   "cell_type": "code",
   "execution_count": 351,
   "source": [
    "mongo_url = config.MONGO_URL\n",
    "client = MongoClient(mongo_url, ssl_cert_reqs=ssl.CERT_NONE)\n",
    "db = client['vendors_data_db']\n",
    "\n",
    "# Three different collections (1. Users 2. Products 3. Bookmarks)\n",
    "collection_users = db.users_col\n",
    "collection_product = db.products\n",
    "collection_bookmarks = db.bookmarks_col"
   ],
   "outputs": [],
   "metadata": {}
  },
  {
   "cell_type": "code",
   "execution_count": 352,
   "source": [
    "# changing the collections to Dataframes\n",
    "users_df = pd.DataFrame(list(collection_users.find()))\n",
    "products_df = pd.DataFrame(list(collection_product.find()))\n",
    "bookmarks_df = pd.DataFrame(list(collection_bookmarks.find()))"
   ],
   "outputs": [],
   "metadata": {}
  },
  {
   "cell_type": "code",
   "execution_count": 353,
   "source": [
    "# User dataframe\n",
    "users_df.head(1)"
   ],
   "outputs": [
    {
     "output_type": "execute_result",
     "data": {
      "text/plain": [
       "                        _id firstName lastName  gender             phone  \\\n",
       "0  6133af8bc4a7e1daa5fd78e0      Lisa    Roach  Female  700.110.0724x387   \n",
       "\n",
       "                  email                                           password  \\\n",
       "0  Lisa.Roach@gmail.com  $2b$10$UXmmmXeFmsH36HwkwEEsFeCgTAdMlrcY2o4PeNK...   \n",
       "\n",
       "  countryOfOrigin dateOfBirth  \n",
       "0         Georgia  1995-04-26  "
      ],
      "text/html": [
       "<div>\n",
       "<style scoped>\n",
       "    .dataframe tbody tr th:only-of-type {\n",
       "        vertical-align: middle;\n",
       "    }\n",
       "\n",
       "    .dataframe tbody tr th {\n",
       "        vertical-align: top;\n",
       "    }\n",
       "\n",
       "    .dataframe thead th {\n",
       "        text-align: right;\n",
       "    }\n",
       "</style>\n",
       "<table border=\"1\" class=\"dataframe\">\n",
       "  <thead>\n",
       "    <tr style=\"text-align: right;\">\n",
       "      <th></th>\n",
       "      <th>_id</th>\n",
       "      <th>firstName</th>\n",
       "      <th>lastName</th>\n",
       "      <th>gender</th>\n",
       "      <th>phone</th>\n",
       "      <th>email</th>\n",
       "      <th>password</th>\n",
       "      <th>countryOfOrigin</th>\n",
       "      <th>dateOfBirth</th>\n",
       "    </tr>\n",
       "  </thead>\n",
       "  <tbody>\n",
       "    <tr>\n",
       "      <th>0</th>\n",
       "      <td>6133af8bc4a7e1daa5fd78e0</td>\n",
       "      <td>Lisa</td>\n",
       "      <td>Roach</td>\n",
       "      <td>Female</td>\n",
       "      <td>700.110.0724x387</td>\n",
       "      <td>Lisa.Roach@gmail.com</td>\n",
       "      <td>$2b$10$UXmmmXeFmsH36HwkwEEsFeCgTAdMlrcY2o4PeNK...</td>\n",
       "      <td>Georgia</td>\n",
       "      <td>1995-04-26</td>\n",
       "    </tr>\n",
       "  </tbody>\n",
       "</table>\n",
       "</div>"
      ]
     },
     "metadata": {},
     "execution_count": 353
    }
   ],
   "metadata": {}
  },
  {
   "cell_type": "code",
   "execution_count": 354,
   "source": [
    "# Bookmark dataframe\n",
    "bookmarks_df.head(1)"
   ],
   "outputs": [
    {
     "output_type": "execute_result",
     "data": {
      "text/plain": [
       "                        _id                    userId  active  \\\n",
       "0  6135b4cbf810533516c4639f  6133af8dc4a7e1daa5fd7923    True   \n",
       "\n",
       "              created                 productId modified  \n",
       "0 2021-09-06 08:27:23  6132464b75e744d165bf2b08     None  "
      ],
      "text/html": [
       "<div>\n",
       "<style scoped>\n",
       "    .dataframe tbody tr th:only-of-type {\n",
       "        vertical-align: middle;\n",
       "    }\n",
       "\n",
       "    .dataframe tbody tr th {\n",
       "        vertical-align: top;\n",
       "    }\n",
       "\n",
       "    .dataframe thead th {\n",
       "        text-align: right;\n",
       "    }\n",
       "</style>\n",
       "<table border=\"1\" class=\"dataframe\">\n",
       "  <thead>\n",
       "    <tr style=\"text-align: right;\">\n",
       "      <th></th>\n",
       "      <th>_id</th>\n",
       "      <th>userId</th>\n",
       "      <th>active</th>\n",
       "      <th>created</th>\n",
       "      <th>productId</th>\n",
       "      <th>modified</th>\n",
       "    </tr>\n",
       "  </thead>\n",
       "  <tbody>\n",
       "    <tr>\n",
       "      <th>0</th>\n",
       "      <td>6135b4cbf810533516c4639f</td>\n",
       "      <td>6133af8dc4a7e1daa5fd7923</td>\n",
       "      <td>True</td>\n",
       "      <td>2021-09-06 08:27:23</td>\n",
       "      <td>6132464b75e744d165bf2b08</td>\n",
       "      <td>None</td>\n",
       "    </tr>\n",
       "  </tbody>\n",
       "</table>\n",
       "</div>"
      ]
     },
     "metadata": {},
     "execution_count": 354
    }
   ],
   "metadata": {}
  },
  {
   "cell_type": "code",
   "execution_count": 355,
   "source": [
    "# Products dataframe\n",
    "products_df.head(1)"
   ],
   "outputs": [
    {
     "output_type": "execute_result",
     "data": {
      "text/plain": [
       "                        _id                        title     brand  price  \\\n",
       "0  613515cdae5592de9045691b  Feines Gemüse-Allerlei 190g  BEBIVITA   0.65   \n",
       "\n",
       "    quantity  discount                                              image  \\\n",
       "0  190g Glas       0.0  https://media.kaufland.com/images/PPIM/AP_Prod...   \n",
       "\n",
       "     vendor  unitPrice  oldPrice unitPriceQuantity offerDuration     category  \\\n",
       "0  Kaufland       0.65       0.0    100 g = 0,35 €          None  Baby & Kind   \n",
       "\n",
       "                   subcategory badges  \\\n",
       "0  Baby- & Kindernahrung (350)   None   \n",
       "\n",
       "                                       thumbnailImgs  \\\n",
       "0  [https://media.kaufland.com/images/PPIM/AP_Pro...   \n",
       "\n",
       "                                         description  \\\n",
       "0  Beste Zutaten aus der Natur - Karotten, Kartof...   \n",
       "\n",
       "                                          properties  \\\n",
       "0  Altersempfehlung:ab 6. MonatFüllmenge:190.0Fre...   \n",
       "\n",
       "                                         ingredients preparationInstruction  \\\n",
       "0  Gemüse 73% (Karotten, Kartoffeln, Erbsen), Was...                          \n",
       "\n",
       "                                               hints   manufacturer  \\\n",
       "0  Bei Flüssigkeitsabsatz bitte umrühren. Benötig...  Bebivita GmbH   \n",
       "\n",
       "  nutritionalValues  status        created                modified  \n",
       "0              None    True  1630594239201 2021-09-03 18:00:51.834  "
      ],
      "text/html": [
       "<div>\n",
       "<style scoped>\n",
       "    .dataframe tbody tr th:only-of-type {\n",
       "        vertical-align: middle;\n",
       "    }\n",
       "\n",
       "    .dataframe tbody tr th {\n",
       "        vertical-align: top;\n",
       "    }\n",
       "\n",
       "    .dataframe thead th {\n",
       "        text-align: right;\n",
       "    }\n",
       "</style>\n",
       "<table border=\"1\" class=\"dataframe\">\n",
       "  <thead>\n",
       "    <tr style=\"text-align: right;\">\n",
       "      <th></th>\n",
       "      <th>_id</th>\n",
       "      <th>title</th>\n",
       "      <th>brand</th>\n",
       "      <th>price</th>\n",
       "      <th>quantity</th>\n",
       "      <th>discount</th>\n",
       "      <th>image</th>\n",
       "      <th>vendor</th>\n",
       "      <th>unitPrice</th>\n",
       "      <th>oldPrice</th>\n",
       "      <th>unitPriceQuantity</th>\n",
       "      <th>offerDuration</th>\n",
       "      <th>category</th>\n",
       "      <th>subcategory</th>\n",
       "      <th>badges</th>\n",
       "      <th>thumbnailImgs</th>\n",
       "      <th>description</th>\n",
       "      <th>properties</th>\n",
       "      <th>ingredients</th>\n",
       "      <th>preparationInstruction</th>\n",
       "      <th>hints</th>\n",
       "      <th>manufacturer</th>\n",
       "      <th>nutritionalValues</th>\n",
       "      <th>status</th>\n",
       "      <th>created</th>\n",
       "      <th>modified</th>\n",
       "    </tr>\n",
       "  </thead>\n",
       "  <tbody>\n",
       "    <tr>\n",
       "      <th>0</th>\n",
       "      <td>613515cdae5592de9045691b</td>\n",
       "      <td>Feines Gemüse-Allerlei 190g</td>\n",
       "      <td>BEBIVITA</td>\n",
       "      <td>0.65</td>\n",
       "      <td>190g Glas</td>\n",
       "      <td>0.0</td>\n",
       "      <td>https://media.kaufland.com/images/PPIM/AP_Prod...</td>\n",
       "      <td>Kaufland</td>\n",
       "      <td>0.65</td>\n",
       "      <td>0.0</td>\n",
       "      <td>100 g = 0,35 €</td>\n",
       "      <td>None</td>\n",
       "      <td>Baby &amp; Kind</td>\n",
       "      <td>Baby- &amp; Kindernahrung (350)</td>\n",
       "      <td>None</td>\n",
       "      <td>[https://media.kaufland.com/images/PPIM/AP_Pro...</td>\n",
       "      <td>Beste Zutaten aus der Natur - Karotten, Kartof...</td>\n",
       "      <td>Altersempfehlung:ab 6. MonatFüllmenge:190.0Fre...</td>\n",
       "      <td>Gemüse 73% (Karotten, Kartoffeln, Erbsen), Was...</td>\n",
       "      <td></td>\n",
       "      <td>Bei Flüssigkeitsabsatz bitte umrühren. Benötig...</td>\n",
       "      <td>Bebivita GmbH</td>\n",
       "      <td>None</td>\n",
       "      <td>True</td>\n",
       "      <td>1630594239201</td>\n",
       "      <td>2021-09-03 18:00:51.834</td>\n",
       "    </tr>\n",
       "  </tbody>\n",
       "</table>\n",
       "</div>"
      ]
     },
     "metadata": {},
     "execution_count": 355
    }
   ],
   "metadata": {}
  },
  {
   "cell_type": "code",
   "execution_count": 356,
   "source": [
    "users_df.columns"
   ],
   "outputs": [
    {
     "output_type": "execute_result",
     "data": {
      "text/plain": [
       "Index(['_id', 'firstName', 'lastName', 'gender', 'phone', 'email', 'password',\n",
       "       'countryOfOrigin', 'dateOfBirth'],\n",
       "      dtype='object')"
      ]
     },
     "metadata": {},
     "execution_count": 356
    }
   ],
   "metadata": {}
  },
  {
   "cell_type": "code",
   "execution_count": 357,
   "source": [
    "products_df.columns"
   ],
   "outputs": [
    {
     "output_type": "execute_result",
     "data": {
      "text/plain": [
       "Index(['_id', 'title', 'brand', 'price', 'quantity', 'discount', 'image',\n",
       "       'vendor', 'unitPrice', 'oldPrice', 'unitPriceQuantity', 'offerDuration',\n",
       "       'category', 'subcategory', 'badges', 'thumbnailImgs', 'description',\n",
       "       'properties', 'ingredients', 'preparationInstruction', 'hints',\n",
       "       'manufacturer', 'nutritionalValues', 'status', 'created', 'modified'],\n",
       "      dtype='object')"
      ]
     },
     "metadata": {},
     "execution_count": 357
    }
   ],
   "metadata": {}
  },
  {
   "cell_type": "code",
   "execution_count": 358,
   "source": [
    "bookmarks_df.columns"
   ],
   "outputs": [
    {
     "output_type": "execute_result",
     "data": {
      "text/plain": [
       "Index(['_id', 'userId', 'active', 'created', 'productId', 'modified'], dtype='object')"
      ]
     },
     "metadata": {},
     "execution_count": 358
    }
   ],
   "metadata": {}
  },
  {
   "cell_type": "markdown",
   "source": [
    "# Data Cleaning and Data Preprocessing"
   ],
   "metadata": {}
  },
  {
   "cell_type": "code",
   "execution_count": 359,
   "source": [
    "# Dropping unnessary columns in users\n",
    "users_info = users_df.drop(columns= ['firstName', 'lastName', 'phone' ,'email', 'password'])"
   ],
   "outputs": [],
   "metadata": {}
  },
  {
   "cell_type": "code",
   "execution_count": 360,
   "source": [
    "# Renaming in user's df\n",
    "users_info = users_info.rename(index=str, columns= {'_id':'user_id'})\n",
    "users_info.head(1)"
   ],
   "outputs": [
    {
     "output_type": "execute_result",
     "data": {
      "text/plain": [
       "                    user_id  gender countryOfOrigin dateOfBirth\n",
       "0  6133af8bc4a7e1daa5fd78e0  Female         Georgia  1995-04-26"
      ],
      "text/html": [
       "<div>\n",
       "<style scoped>\n",
       "    .dataframe tbody tr th:only-of-type {\n",
       "        vertical-align: middle;\n",
       "    }\n",
       "\n",
       "    .dataframe tbody tr th {\n",
       "        vertical-align: top;\n",
       "    }\n",
       "\n",
       "    .dataframe thead th {\n",
       "        text-align: right;\n",
       "    }\n",
       "</style>\n",
       "<table border=\"1\" class=\"dataframe\">\n",
       "  <thead>\n",
       "    <tr style=\"text-align: right;\">\n",
       "      <th></th>\n",
       "      <th>user_id</th>\n",
       "      <th>gender</th>\n",
       "      <th>countryOfOrigin</th>\n",
       "      <th>dateOfBirth</th>\n",
       "    </tr>\n",
       "  </thead>\n",
       "  <tbody>\n",
       "    <tr>\n",
       "      <th>0</th>\n",
       "      <td>6133af8bc4a7e1daa5fd78e0</td>\n",
       "      <td>Female</td>\n",
       "      <td>Georgia</td>\n",
       "      <td>1995-04-26</td>\n",
       "    </tr>\n",
       "  </tbody>\n",
       "</table>\n",
       "</div>"
      ]
     },
     "metadata": {},
     "execution_count": 360
    }
   ],
   "metadata": {}
  },
  {
   "cell_type": "code",
   "execution_count": 361,
   "source": [
    "# Convert birth date to age \n",
    "def age(born):\n",
    "    born = datetime.strptime(born, \"%Y-%m-%d\").date()\n",
    "    today = date.today()\n",
    "    return today.year - born.year - ((today.month, \n",
    "                                      today.day) < (born.month, \n",
    "                                                    born.day))\n",
    "  \n",
    "users_info['age'] = users_info['dateOfBirth'].apply(age)\n",
    "  \n",
    "users_info.head(10)"
   ],
   "outputs": [
    {
     "output_type": "execute_result",
     "data": {
      "text/plain": [
       "                    user_id  gender                   countryOfOrigin  \\\n",
       "0  6133af8bc4a7e1daa5fd78e0  Female                           Georgia   \n",
       "1  6133af8bc4a7e1daa5fd78e1  Female                Russian Federation   \n",
       "2  6133af8bc4a7e1daa5fd78e2    Male                            Greece   \n",
       "3  6133af8bc4a7e1daa5fd78e3    Male                     French Guiana   \n",
       "4  6133af8bc4a7e1daa5fd78e4  Female                            Gambia   \n",
       "5  6133af8bc4a7e1daa5fd78e5  Female  Saint Vincent and the Grenadines   \n",
       "6  6133af8bc4a7e1daa5fd78e6  Female                             Palau   \n",
       "7  6133af8bc4a7e1daa5fd78e7    Male                         Mauritius   \n",
       "8  6133af8bc4a7e1daa5fd78e8    Male                           Armenia   \n",
       "9  6133af8bc4a7e1daa5fd78e9  Female                          Anguilla   \n",
       "\n",
       "  dateOfBirth  age  \n",
       "0  1995-04-26   26  \n",
       "1  2019-03-19    2  \n",
       "2  2001-03-15   20  \n",
       "3  1994-04-29   27  \n",
       "4  1978-01-21   43  \n",
       "5  1992-04-07   29  \n",
       "6  2000-12-05   20  \n",
       "7  2012-02-25    9  \n",
       "8  2012-02-23    9  \n",
       "9  2018-11-27    2  "
      ],
      "text/html": [
       "<div>\n",
       "<style scoped>\n",
       "    .dataframe tbody tr th:only-of-type {\n",
       "        vertical-align: middle;\n",
       "    }\n",
       "\n",
       "    .dataframe tbody tr th {\n",
       "        vertical-align: top;\n",
       "    }\n",
       "\n",
       "    .dataframe thead th {\n",
       "        text-align: right;\n",
       "    }\n",
       "</style>\n",
       "<table border=\"1\" class=\"dataframe\">\n",
       "  <thead>\n",
       "    <tr style=\"text-align: right;\">\n",
       "      <th></th>\n",
       "      <th>user_id</th>\n",
       "      <th>gender</th>\n",
       "      <th>countryOfOrigin</th>\n",
       "      <th>dateOfBirth</th>\n",
       "      <th>age</th>\n",
       "    </tr>\n",
       "  </thead>\n",
       "  <tbody>\n",
       "    <tr>\n",
       "      <th>0</th>\n",
       "      <td>6133af8bc4a7e1daa5fd78e0</td>\n",
       "      <td>Female</td>\n",
       "      <td>Georgia</td>\n",
       "      <td>1995-04-26</td>\n",
       "      <td>26</td>\n",
       "    </tr>\n",
       "    <tr>\n",
       "      <th>1</th>\n",
       "      <td>6133af8bc4a7e1daa5fd78e1</td>\n",
       "      <td>Female</td>\n",
       "      <td>Russian Federation</td>\n",
       "      <td>2019-03-19</td>\n",
       "      <td>2</td>\n",
       "    </tr>\n",
       "    <tr>\n",
       "      <th>2</th>\n",
       "      <td>6133af8bc4a7e1daa5fd78e2</td>\n",
       "      <td>Male</td>\n",
       "      <td>Greece</td>\n",
       "      <td>2001-03-15</td>\n",
       "      <td>20</td>\n",
       "    </tr>\n",
       "    <tr>\n",
       "      <th>3</th>\n",
       "      <td>6133af8bc4a7e1daa5fd78e3</td>\n",
       "      <td>Male</td>\n",
       "      <td>French Guiana</td>\n",
       "      <td>1994-04-29</td>\n",
       "      <td>27</td>\n",
       "    </tr>\n",
       "    <tr>\n",
       "      <th>4</th>\n",
       "      <td>6133af8bc4a7e1daa5fd78e4</td>\n",
       "      <td>Female</td>\n",
       "      <td>Gambia</td>\n",
       "      <td>1978-01-21</td>\n",
       "      <td>43</td>\n",
       "    </tr>\n",
       "    <tr>\n",
       "      <th>5</th>\n",
       "      <td>6133af8bc4a7e1daa5fd78e5</td>\n",
       "      <td>Female</td>\n",
       "      <td>Saint Vincent and the Grenadines</td>\n",
       "      <td>1992-04-07</td>\n",
       "      <td>29</td>\n",
       "    </tr>\n",
       "    <tr>\n",
       "      <th>6</th>\n",
       "      <td>6133af8bc4a7e1daa5fd78e6</td>\n",
       "      <td>Female</td>\n",
       "      <td>Palau</td>\n",
       "      <td>2000-12-05</td>\n",
       "      <td>20</td>\n",
       "    </tr>\n",
       "    <tr>\n",
       "      <th>7</th>\n",
       "      <td>6133af8bc4a7e1daa5fd78e7</td>\n",
       "      <td>Male</td>\n",
       "      <td>Mauritius</td>\n",
       "      <td>2012-02-25</td>\n",
       "      <td>9</td>\n",
       "    </tr>\n",
       "    <tr>\n",
       "      <th>8</th>\n",
       "      <td>6133af8bc4a7e1daa5fd78e8</td>\n",
       "      <td>Male</td>\n",
       "      <td>Armenia</td>\n",
       "      <td>2012-02-23</td>\n",
       "      <td>9</td>\n",
       "    </tr>\n",
       "    <tr>\n",
       "      <th>9</th>\n",
       "      <td>6133af8bc4a7e1daa5fd78e9</td>\n",
       "      <td>Female</td>\n",
       "      <td>Anguilla</td>\n",
       "      <td>2018-11-27</td>\n",
       "      <td>2</td>\n",
       "    </tr>\n",
       "  </tbody>\n",
       "</table>\n",
       "</div>"
      ]
     },
     "metadata": {},
     "execution_count": 361
    }
   ],
   "metadata": {}
  },
  {
   "cell_type": "code",
   "execution_count": 362,
   "source": [
    "# filter the ages above the age of 18\n",
    "users_info.drop(users_info[ (users_info.age <= 18)].index, axis=0, inplace=True)"
   ],
   "outputs": [],
   "metadata": {}
  },
  {
   "cell_type": "code",
   "execution_count": 363,
   "source": [
    "users_info.head(3)"
   ],
   "outputs": [
    {
     "output_type": "execute_result",
     "data": {
      "text/plain": [
       "                    user_id  gender countryOfOrigin dateOfBirth  age\n",
       "0  6133af8bc4a7e1daa5fd78e0  Female         Georgia  1995-04-26   26\n",
       "2  6133af8bc4a7e1daa5fd78e2    Male          Greece  2001-03-15   20\n",
       "3  6133af8bc4a7e1daa5fd78e3    Male   French Guiana  1994-04-29   27"
      ],
      "text/html": [
       "<div>\n",
       "<style scoped>\n",
       "    .dataframe tbody tr th:only-of-type {\n",
       "        vertical-align: middle;\n",
       "    }\n",
       "\n",
       "    .dataframe tbody tr th {\n",
       "        vertical-align: top;\n",
       "    }\n",
       "\n",
       "    .dataframe thead th {\n",
       "        text-align: right;\n",
       "    }\n",
       "</style>\n",
       "<table border=\"1\" class=\"dataframe\">\n",
       "  <thead>\n",
       "    <tr style=\"text-align: right;\">\n",
       "      <th></th>\n",
       "      <th>user_id</th>\n",
       "      <th>gender</th>\n",
       "      <th>countryOfOrigin</th>\n",
       "      <th>dateOfBirth</th>\n",
       "      <th>age</th>\n",
       "    </tr>\n",
       "  </thead>\n",
       "  <tbody>\n",
       "    <tr>\n",
       "      <th>0</th>\n",
       "      <td>6133af8bc4a7e1daa5fd78e0</td>\n",
       "      <td>Female</td>\n",
       "      <td>Georgia</td>\n",
       "      <td>1995-04-26</td>\n",
       "      <td>26</td>\n",
       "    </tr>\n",
       "    <tr>\n",
       "      <th>2</th>\n",
       "      <td>6133af8bc4a7e1daa5fd78e2</td>\n",
       "      <td>Male</td>\n",
       "      <td>Greece</td>\n",
       "      <td>2001-03-15</td>\n",
       "      <td>20</td>\n",
       "    </tr>\n",
       "    <tr>\n",
       "      <th>3</th>\n",
       "      <td>6133af8bc4a7e1daa5fd78e3</td>\n",
       "      <td>Male</td>\n",
       "      <td>French Guiana</td>\n",
       "      <td>1994-04-29</td>\n",
       "      <td>27</td>\n",
       "    </tr>\n",
       "  </tbody>\n",
       "</table>\n",
       "</div>"
      ]
     },
     "metadata": {},
     "execution_count": 363
    }
   ],
   "metadata": {}
  },
  {
   "cell_type": "code",
   "execution_count": 364,
   "source": [
    "# Gender coding => Female: 0 and Male: 1\n",
    "\n",
    "users_info = users_info.replace(['Female', 'Male'], [0, 1])\n",
    "users_info.head(3)"
   ],
   "outputs": [
    {
     "output_type": "execute_result",
     "data": {
      "text/plain": [
       "                    user_id  gender countryOfOrigin dateOfBirth  age\n",
       "0  6133af8bc4a7e1daa5fd78e0       0         Georgia  1995-04-26   26\n",
       "2  6133af8bc4a7e1daa5fd78e2       1          Greece  2001-03-15   20\n",
       "3  6133af8bc4a7e1daa5fd78e3       1   French Guiana  1994-04-29   27"
      ],
      "text/html": [
       "<div>\n",
       "<style scoped>\n",
       "    .dataframe tbody tr th:only-of-type {\n",
       "        vertical-align: middle;\n",
       "    }\n",
       "\n",
       "    .dataframe tbody tr th {\n",
       "        vertical-align: top;\n",
       "    }\n",
       "\n",
       "    .dataframe thead th {\n",
       "        text-align: right;\n",
       "    }\n",
       "</style>\n",
       "<table border=\"1\" class=\"dataframe\">\n",
       "  <thead>\n",
       "    <tr style=\"text-align: right;\">\n",
       "      <th></th>\n",
       "      <th>user_id</th>\n",
       "      <th>gender</th>\n",
       "      <th>countryOfOrigin</th>\n",
       "      <th>dateOfBirth</th>\n",
       "      <th>age</th>\n",
       "    </tr>\n",
       "  </thead>\n",
       "  <tbody>\n",
       "    <tr>\n",
       "      <th>0</th>\n",
       "      <td>6133af8bc4a7e1daa5fd78e0</td>\n",
       "      <td>0</td>\n",
       "      <td>Georgia</td>\n",
       "      <td>1995-04-26</td>\n",
       "      <td>26</td>\n",
       "    </tr>\n",
       "    <tr>\n",
       "      <th>2</th>\n",
       "      <td>6133af8bc4a7e1daa5fd78e2</td>\n",
       "      <td>1</td>\n",
       "      <td>Greece</td>\n",
       "      <td>2001-03-15</td>\n",
       "      <td>20</td>\n",
       "    </tr>\n",
       "    <tr>\n",
       "      <th>3</th>\n",
       "      <td>6133af8bc4a7e1daa5fd78e3</td>\n",
       "      <td>1</td>\n",
       "      <td>French Guiana</td>\n",
       "      <td>1994-04-29</td>\n",
       "      <td>27</td>\n",
       "    </tr>\n",
       "  </tbody>\n",
       "</table>\n",
       "</div>"
      ]
     },
     "metadata": {},
     "execution_count": 364
    }
   ],
   "metadata": {}
  },
  {
   "cell_type": "code",
   "execution_count": 365,
   "source": [
    "# Countries Label Encoding \n",
    "\n",
    "label_encoder = preprocessing.LabelEncoder()\n",
    "users_info['nationality']= label_encoder.fit_transform(users_info['countryOfOrigin']) \n",
    "users_info.head(3)"
   ],
   "outputs": [
    {
     "output_type": "execute_result",
     "data": {
      "text/plain": [
       "                    user_id  gender countryOfOrigin dateOfBirth  age  \\\n",
       "0  6133af8bc4a7e1daa5fd78e0       0         Georgia  1995-04-26   26   \n",
       "2  6133af8bc4a7e1daa5fd78e2       1          Greece  2001-03-15   20   \n",
       "3  6133af8bc4a7e1daa5fd78e3       1   French Guiana  1994-04-29   27   \n",
       "\n",
       "   nationality  \n",
       "0           30  \n",
       "2           33  \n",
       "3           27  "
      ],
      "text/html": [
       "<div>\n",
       "<style scoped>\n",
       "    .dataframe tbody tr th:only-of-type {\n",
       "        vertical-align: middle;\n",
       "    }\n",
       "\n",
       "    .dataframe tbody tr th {\n",
       "        vertical-align: top;\n",
       "    }\n",
       "\n",
       "    .dataframe thead th {\n",
       "        text-align: right;\n",
       "    }\n",
       "</style>\n",
       "<table border=\"1\" class=\"dataframe\">\n",
       "  <thead>\n",
       "    <tr style=\"text-align: right;\">\n",
       "      <th></th>\n",
       "      <th>user_id</th>\n",
       "      <th>gender</th>\n",
       "      <th>countryOfOrigin</th>\n",
       "      <th>dateOfBirth</th>\n",
       "      <th>age</th>\n",
       "      <th>nationality</th>\n",
       "    </tr>\n",
       "  </thead>\n",
       "  <tbody>\n",
       "    <tr>\n",
       "      <th>0</th>\n",
       "      <td>6133af8bc4a7e1daa5fd78e0</td>\n",
       "      <td>0</td>\n",
       "      <td>Georgia</td>\n",
       "      <td>1995-04-26</td>\n",
       "      <td>26</td>\n",
       "      <td>30</td>\n",
       "    </tr>\n",
       "    <tr>\n",
       "      <th>2</th>\n",
       "      <td>6133af8bc4a7e1daa5fd78e2</td>\n",
       "      <td>1</td>\n",
       "      <td>Greece</td>\n",
       "      <td>2001-03-15</td>\n",
       "      <td>20</td>\n",
       "      <td>33</td>\n",
       "    </tr>\n",
       "    <tr>\n",
       "      <th>3</th>\n",
       "      <td>6133af8bc4a7e1daa5fd78e3</td>\n",
       "      <td>1</td>\n",
       "      <td>French Guiana</td>\n",
       "      <td>1994-04-29</td>\n",
       "      <td>27</td>\n",
       "      <td>27</td>\n",
       "    </tr>\n",
       "  </tbody>\n",
       "</table>\n",
       "</div>"
      ]
     },
     "metadata": {},
     "execution_count": 365
    }
   ],
   "metadata": {}
  },
  {
   "cell_type": "code",
   "execution_count": 366,
   "source": [
    "# Dropping unnessary columns in products\n",
    "products_info = products_df.drop(columns= ['image', 'thumbnailImgs', 'status'])\n"
   ],
   "outputs": [],
   "metadata": {}
  },
  {
   "cell_type": "code",
   "execution_count": 367,
   "source": [
    "# Renaming in product's df\n",
    "\n",
    "products_info = products_info.rename(index=str, columns= {'_id':'product_id'})\n",
    "products_info.head(1)"
   ],
   "outputs": [
    {
     "output_type": "execute_result",
     "data": {
      "text/plain": [
       "                 product_id                        title     brand  price  \\\n",
       "0  613515cdae5592de9045691b  Feines Gemüse-Allerlei 190g  BEBIVITA   0.65   \n",
       "\n",
       "    quantity  discount    vendor  unitPrice  oldPrice unitPriceQuantity  \\\n",
       "0  190g Glas       0.0  Kaufland       0.65       0.0    100 g = 0,35 €   \n",
       "\n",
       "  offerDuration     category                  subcategory badges  \\\n",
       "0          None  Baby & Kind  Baby- & Kindernahrung (350)   None   \n",
       "\n",
       "                                         description  \\\n",
       "0  Beste Zutaten aus der Natur - Karotten, Kartof...   \n",
       "\n",
       "                                          properties  \\\n",
       "0  Altersempfehlung:ab 6. MonatFüllmenge:190.0Fre...   \n",
       "\n",
       "                                         ingredients preparationInstruction  \\\n",
       "0  Gemüse 73% (Karotten, Kartoffeln, Erbsen), Was...                          \n",
       "\n",
       "                                               hints   manufacturer  \\\n",
       "0  Bei Flüssigkeitsabsatz bitte umrühren. Benötig...  Bebivita GmbH   \n",
       "\n",
       "  nutritionalValues        created                modified  \n",
       "0              None  1630594239201 2021-09-03 18:00:51.834  "
      ],
      "text/html": [
       "<div>\n",
       "<style scoped>\n",
       "    .dataframe tbody tr th:only-of-type {\n",
       "        vertical-align: middle;\n",
       "    }\n",
       "\n",
       "    .dataframe tbody tr th {\n",
       "        vertical-align: top;\n",
       "    }\n",
       "\n",
       "    .dataframe thead th {\n",
       "        text-align: right;\n",
       "    }\n",
       "</style>\n",
       "<table border=\"1\" class=\"dataframe\">\n",
       "  <thead>\n",
       "    <tr style=\"text-align: right;\">\n",
       "      <th></th>\n",
       "      <th>product_id</th>\n",
       "      <th>title</th>\n",
       "      <th>brand</th>\n",
       "      <th>price</th>\n",
       "      <th>quantity</th>\n",
       "      <th>discount</th>\n",
       "      <th>vendor</th>\n",
       "      <th>unitPrice</th>\n",
       "      <th>oldPrice</th>\n",
       "      <th>unitPriceQuantity</th>\n",
       "      <th>offerDuration</th>\n",
       "      <th>category</th>\n",
       "      <th>subcategory</th>\n",
       "      <th>badges</th>\n",
       "      <th>description</th>\n",
       "      <th>properties</th>\n",
       "      <th>ingredients</th>\n",
       "      <th>preparationInstruction</th>\n",
       "      <th>hints</th>\n",
       "      <th>manufacturer</th>\n",
       "      <th>nutritionalValues</th>\n",
       "      <th>created</th>\n",
       "      <th>modified</th>\n",
       "    </tr>\n",
       "  </thead>\n",
       "  <tbody>\n",
       "    <tr>\n",
       "      <th>0</th>\n",
       "      <td>613515cdae5592de9045691b</td>\n",
       "      <td>Feines Gemüse-Allerlei 190g</td>\n",
       "      <td>BEBIVITA</td>\n",
       "      <td>0.65</td>\n",
       "      <td>190g Glas</td>\n",
       "      <td>0.0</td>\n",
       "      <td>Kaufland</td>\n",
       "      <td>0.65</td>\n",
       "      <td>0.0</td>\n",
       "      <td>100 g = 0,35 €</td>\n",
       "      <td>None</td>\n",
       "      <td>Baby &amp; Kind</td>\n",
       "      <td>Baby- &amp; Kindernahrung (350)</td>\n",
       "      <td>None</td>\n",
       "      <td>Beste Zutaten aus der Natur - Karotten, Kartof...</td>\n",
       "      <td>Altersempfehlung:ab 6. MonatFüllmenge:190.0Fre...</td>\n",
       "      <td>Gemüse 73% (Karotten, Kartoffeln, Erbsen), Was...</td>\n",
       "      <td></td>\n",
       "      <td>Bei Flüssigkeitsabsatz bitte umrühren. Benötig...</td>\n",
       "      <td>Bebivita GmbH</td>\n",
       "      <td>None</td>\n",
       "      <td>1630594239201</td>\n",
       "      <td>2021-09-03 18:00:51.834</td>\n",
       "    </tr>\n",
       "  </tbody>\n",
       "</table>\n",
       "</div>"
      ]
     },
     "metadata": {},
     "execution_count": 367
    }
   ],
   "metadata": {}
  },
  {
   "cell_type": "code",
   "execution_count": 368,
   "source": [
    "# Dropping unnessary columns in bookmarks\n",
    "\n",
    "bookmarks_info = bookmarks_df.drop(columns= ['_id','created', 'modified'])"
   ],
   "outputs": [],
   "metadata": {}
  },
  {
   "cell_type": "code",
   "execution_count": 369,
   "source": [
    "# Renaming in bookmark's df\n",
    "bookmarks_info = bookmarks_info.rename(index=str, columns= {'userId': 'user_id', 'productId' : 'product_id'})\n",
    "bookmarks_info.head(3)"
   ],
   "outputs": [
    {
     "output_type": "execute_result",
     "data": {
      "text/plain": [
       "                    user_id  active                product_id\n",
       "0  6133af8dc4a7e1daa5fd7923    True  6132464b75e744d165bf2b08\n",
       "1  6133af8dc4a7e1daa5fd7928    True  6132465275e744d165bf2ca1\n",
       "2  6133af8ec4a7e1daa5fd794b    True  6132466275e744d165bf2faa"
      ],
      "text/html": [
       "<div>\n",
       "<style scoped>\n",
       "    .dataframe tbody tr th:only-of-type {\n",
       "        vertical-align: middle;\n",
       "    }\n",
       "\n",
       "    .dataframe tbody tr th {\n",
       "        vertical-align: top;\n",
       "    }\n",
       "\n",
       "    .dataframe thead th {\n",
       "        text-align: right;\n",
       "    }\n",
       "</style>\n",
       "<table border=\"1\" class=\"dataframe\">\n",
       "  <thead>\n",
       "    <tr style=\"text-align: right;\">\n",
       "      <th></th>\n",
       "      <th>user_id</th>\n",
       "      <th>active</th>\n",
       "      <th>product_id</th>\n",
       "    </tr>\n",
       "  </thead>\n",
       "  <tbody>\n",
       "    <tr>\n",
       "      <th>0</th>\n",
       "      <td>6133af8dc4a7e1daa5fd7923</td>\n",
       "      <td>True</td>\n",
       "      <td>6132464b75e744d165bf2b08</td>\n",
       "    </tr>\n",
       "    <tr>\n",
       "      <th>1</th>\n",
       "      <td>6133af8dc4a7e1daa5fd7928</td>\n",
       "      <td>True</td>\n",
       "      <td>6132465275e744d165bf2ca1</td>\n",
       "    </tr>\n",
       "    <tr>\n",
       "      <th>2</th>\n",
       "      <td>6133af8ec4a7e1daa5fd794b</td>\n",
       "      <td>True</td>\n",
       "      <td>6132466275e744d165bf2faa</td>\n",
       "    </tr>\n",
       "  </tbody>\n",
       "</table>\n",
       "</div>"
      ]
     },
     "metadata": {},
     "execution_count": 369
    }
   ],
   "metadata": {}
  },
  {
   "cell_type": "code",
   "execution_count": 370,
   "source": [
    "# Changing the datatypes (Important for inner Join)\n",
    "bookmarks_info['user_id'] = bookmarks_info['user_id'].astype(str)\n",
    "users_info['user_id'] = users_info['user_id'].astype(str)\n",
    "\n"
   ],
   "outputs": [],
   "metadata": {}
  },
  {
   "cell_type": "markdown",
   "source": [
    "# Complete DataFrame (Inner Join):"
   ],
   "metadata": {}
  },
  {
   "cell_type": "code",
   "execution_count": 371,
   "source": [
    "# Inner Join\n",
    "df = pd.merge(users_info, bookmarks_info, on= 'user_id')\n",
    "df.head(7)"
   ],
   "outputs": [
    {
     "output_type": "execute_result",
     "data": {
      "text/plain": [
       "                    user_id  gender countryOfOrigin dateOfBirth  age  \\\n",
       "0  6133af8bc4a7e1daa5fd78e2       1          Greece  2001-03-15   20   \n",
       "1  6133af8bc4a7e1daa5fd78e2       1          Greece  2001-03-15   20   \n",
       "2  6133af8bc4a7e1daa5fd78e2       1          Greece  2001-03-15   20   \n",
       "3  6133af8bc4a7e1daa5fd78e2       1          Greece  2001-03-15   20   \n",
       "4  6133af8bc4a7e1daa5fd78e2       1          Greece  2001-03-15   20   \n",
       "5  6133af8bc4a7e1daa5fd78e3       1   French Guiana  1994-04-29   27   \n",
       "6  6133af8bc4a7e1daa5fd78e3       1   French Guiana  1994-04-29   27   \n",
       "\n",
       "   nationality  active                product_id  \n",
       "0           33    True  6132462d75e744d165bf255f  \n",
       "1           33    True  6132462375e744d165bf236c  \n",
       "2           33    True  6132466975e744d165bf30ef  \n",
       "3           33    True  6132465f75e744d165bf2f25  \n",
       "4           33    True  6132462c75e744d165bf251e  \n",
       "5           27    True  6132463275e744d165bf264f  \n",
       "6           27    True  6132464c75e744d165bf2b79  "
      ],
      "text/html": [
       "<div>\n",
       "<style scoped>\n",
       "    .dataframe tbody tr th:only-of-type {\n",
       "        vertical-align: middle;\n",
       "    }\n",
       "\n",
       "    .dataframe tbody tr th {\n",
       "        vertical-align: top;\n",
       "    }\n",
       "\n",
       "    .dataframe thead th {\n",
       "        text-align: right;\n",
       "    }\n",
       "</style>\n",
       "<table border=\"1\" class=\"dataframe\">\n",
       "  <thead>\n",
       "    <tr style=\"text-align: right;\">\n",
       "      <th></th>\n",
       "      <th>user_id</th>\n",
       "      <th>gender</th>\n",
       "      <th>countryOfOrigin</th>\n",
       "      <th>dateOfBirth</th>\n",
       "      <th>age</th>\n",
       "      <th>nationality</th>\n",
       "      <th>active</th>\n",
       "      <th>product_id</th>\n",
       "    </tr>\n",
       "  </thead>\n",
       "  <tbody>\n",
       "    <tr>\n",
       "      <th>0</th>\n",
       "      <td>6133af8bc4a7e1daa5fd78e2</td>\n",
       "      <td>1</td>\n",
       "      <td>Greece</td>\n",
       "      <td>2001-03-15</td>\n",
       "      <td>20</td>\n",
       "      <td>33</td>\n",
       "      <td>True</td>\n",
       "      <td>6132462d75e744d165bf255f</td>\n",
       "    </tr>\n",
       "    <tr>\n",
       "      <th>1</th>\n",
       "      <td>6133af8bc4a7e1daa5fd78e2</td>\n",
       "      <td>1</td>\n",
       "      <td>Greece</td>\n",
       "      <td>2001-03-15</td>\n",
       "      <td>20</td>\n",
       "      <td>33</td>\n",
       "      <td>True</td>\n",
       "      <td>6132462375e744d165bf236c</td>\n",
       "    </tr>\n",
       "    <tr>\n",
       "      <th>2</th>\n",
       "      <td>6133af8bc4a7e1daa5fd78e2</td>\n",
       "      <td>1</td>\n",
       "      <td>Greece</td>\n",
       "      <td>2001-03-15</td>\n",
       "      <td>20</td>\n",
       "      <td>33</td>\n",
       "      <td>True</td>\n",
       "      <td>6132466975e744d165bf30ef</td>\n",
       "    </tr>\n",
       "    <tr>\n",
       "      <th>3</th>\n",
       "      <td>6133af8bc4a7e1daa5fd78e2</td>\n",
       "      <td>1</td>\n",
       "      <td>Greece</td>\n",
       "      <td>2001-03-15</td>\n",
       "      <td>20</td>\n",
       "      <td>33</td>\n",
       "      <td>True</td>\n",
       "      <td>6132465f75e744d165bf2f25</td>\n",
       "    </tr>\n",
       "    <tr>\n",
       "      <th>4</th>\n",
       "      <td>6133af8bc4a7e1daa5fd78e2</td>\n",
       "      <td>1</td>\n",
       "      <td>Greece</td>\n",
       "      <td>2001-03-15</td>\n",
       "      <td>20</td>\n",
       "      <td>33</td>\n",
       "      <td>True</td>\n",
       "      <td>6132462c75e744d165bf251e</td>\n",
       "    </tr>\n",
       "    <tr>\n",
       "      <th>5</th>\n",
       "      <td>6133af8bc4a7e1daa5fd78e3</td>\n",
       "      <td>1</td>\n",
       "      <td>French Guiana</td>\n",
       "      <td>1994-04-29</td>\n",
       "      <td>27</td>\n",
       "      <td>27</td>\n",
       "      <td>True</td>\n",
       "      <td>6132463275e744d165bf264f</td>\n",
       "    </tr>\n",
       "    <tr>\n",
       "      <th>6</th>\n",
       "      <td>6133af8bc4a7e1daa5fd78e3</td>\n",
       "      <td>1</td>\n",
       "      <td>French Guiana</td>\n",
       "      <td>1994-04-29</td>\n",
       "      <td>27</td>\n",
       "      <td>27</td>\n",
       "      <td>True</td>\n",
       "      <td>6132464c75e744d165bf2b79</td>\n",
       "    </tr>\n",
       "  </tbody>\n",
       "</table>\n",
       "</div>"
      ]
     },
     "metadata": {},
     "execution_count": 371
    }
   ],
   "metadata": {}
  },
  {
   "cell_type": "code",
   "execution_count": 372,
   "source": [
    "# Counting the number of unique users\n",
    "len(df.user_id.unique())"
   ],
   "outputs": [
    {
     "output_type": "execute_result",
     "data": {
      "text/plain": [
       "128"
      ]
     },
     "metadata": {},
     "execution_count": 372
    }
   ],
   "metadata": {}
  },
  {
   "cell_type": "code",
   "execution_count": 373,
   "source": [
    "# Merging back the bookmarked products id to each specific users\n",
    "\n",
    "df_grouped_id = df.groupby('user_id').agg({\n",
    "    'gender':'first', \n",
    "    'nationality' : 'first',\n",
    "    'age':'first',\n",
    "    'product_id': ', '.join, \n",
    "     }).reset_index()             "
   ],
   "outputs": [],
   "metadata": {}
  },
  {
   "cell_type": "code",
   "execution_count": 374,
   "source": [
    "df_grouped_id.shape"
   ],
   "outputs": [
    {
     "output_type": "execute_result",
     "data": {
      "text/plain": [
       "(128, 5)"
      ]
     },
     "metadata": {},
     "execution_count": 374
    }
   ],
   "metadata": {}
  },
  {
   "cell_type": "code",
   "execution_count": 375,
   "source": [
    "# Final DF for using in ML\n",
    "# Here having all unique users with their personal information and bookmarked items\n",
    "df_grouped_id.head(3)"
   ],
   "outputs": [
    {
     "output_type": "execute_result",
     "data": {
      "text/plain": [
       "                    user_id  gender  nationality  age  \\\n",
       "0  6133af8bc4a7e1daa5fd78e2       1           33   20   \n",
       "1  6133af8bc4a7e1daa5fd78e3       1           27   27   \n",
       "2  6133af8bc4a7e1daa5fd78e4       0           29   43   \n",
       "\n",
       "                                          product_id  \n",
       "0  6132462d75e744d165bf255f, 6132462375e744d165bf...  \n",
       "1  6132463275e744d165bf264f, 6132464c75e744d165bf...  \n",
       "2  6132462b75e744d165bf24f3, 6132466b75e744d165bf...  "
      ],
      "text/html": [
       "<div>\n",
       "<style scoped>\n",
       "    .dataframe tbody tr th:only-of-type {\n",
       "        vertical-align: middle;\n",
       "    }\n",
       "\n",
       "    .dataframe tbody tr th {\n",
       "        vertical-align: top;\n",
       "    }\n",
       "\n",
       "    .dataframe thead th {\n",
       "        text-align: right;\n",
       "    }\n",
       "</style>\n",
       "<table border=\"1\" class=\"dataframe\">\n",
       "  <thead>\n",
       "    <tr style=\"text-align: right;\">\n",
       "      <th></th>\n",
       "      <th>user_id</th>\n",
       "      <th>gender</th>\n",
       "      <th>nationality</th>\n",
       "      <th>age</th>\n",
       "      <th>product_id</th>\n",
       "    </tr>\n",
       "  </thead>\n",
       "  <tbody>\n",
       "    <tr>\n",
       "      <th>0</th>\n",
       "      <td>6133af8bc4a7e1daa5fd78e2</td>\n",
       "      <td>1</td>\n",
       "      <td>33</td>\n",
       "      <td>20</td>\n",
       "      <td>6132462d75e744d165bf255f, 6132462375e744d165bf...</td>\n",
       "    </tr>\n",
       "    <tr>\n",
       "      <th>1</th>\n",
       "      <td>6133af8bc4a7e1daa5fd78e3</td>\n",
       "      <td>1</td>\n",
       "      <td>27</td>\n",
       "      <td>27</td>\n",
       "      <td>6132463275e744d165bf264f, 6132464c75e744d165bf...</td>\n",
       "    </tr>\n",
       "    <tr>\n",
       "      <th>2</th>\n",
       "      <td>6133af8bc4a7e1daa5fd78e4</td>\n",
       "      <td>0</td>\n",
       "      <td>29</td>\n",
       "      <td>43</td>\n",
       "      <td>6132462b75e744d165bf24f3, 6132466b75e744d165bf...</td>\n",
       "    </tr>\n",
       "  </tbody>\n",
       "</table>\n",
       "</div>"
      ]
     },
     "metadata": {},
     "execution_count": 375
    }
   ],
   "metadata": {}
  },
  {
   "cell_type": "code",
   "execution_count": 376,
   "source": [
    "df_grouped_id['product_id'][0]"
   ],
   "outputs": [
    {
     "output_type": "execute_result",
     "data": {
      "text/plain": [
       "'6132462d75e744d165bf255f, 6132462375e744d165bf236c, 6132466975e744d165bf30ef, 6132465f75e744d165bf2f25, 6132462c75e744d165bf251e'"
      ]
     },
     "metadata": {},
     "execution_count": 376
    }
   ],
   "metadata": {}
  },
  {
   "cell_type": "markdown",
   "source": [
    "# Machine Learning - Decision Tree"
   ],
   "metadata": {}
  },
  {
   "cell_type": "code",
   "execution_count": 377,
   "source": [
    "# Spliting the dataset -> Training and Testing\n",
    "\n",
    "# X = Predictors (gender, nationality, age)\n",
    "X = df_grouped_id.drop(columns=['user_id', 'product_id' ])\n",
    "y = df_grouped_id['product_id']\n",
    "# y = y.to_list()\n",
    "# y = y.astype('str')\n",
    "\n",
    "\n",
    "\n",
    "X_train, X_test, y_train, y_test = train_test_split(X, y, test_size = 0.2)\n",
    "\n",
    "\n",
    "model = DecisionTreeClassifier()\n",
    "model.fit(X_train, y_train)\n",
    "predictions = model.predict(X_test)\n",
    "predictions\n"
   ],
   "outputs": [
    {
     "output_type": "execute_result",
     "data": {
      "text/plain": [
       "array(['6132464e75e744d165bf2bd7, 6132463475e744d165bf26cf, 6132465f75e744d165bf2f38',\n",
       "       '6132465975e744d165bf2e01, 6132463675e744d165bf272b',\n",
       "       '6132466c75e744d165bf31a9, 6132463775e744d165bf2763, 6132464275e744d165bf2974, 6132463a75e744d165bf27ed',\n",
       "       '6132466275e744d165bf2fcc, 6132465075e744d165bf2c15',\n",
       "       '6132466975e744d165bf30ff, 6132466775e744d165bf3086, 6132465275e744d165bf2cb1',\n",
       "       '6132462475e744d165bf2397, 6132464d75e744d165bf2bc1, 6132462875e744d165bf2453, 6132463375e744d165bf2688',\n",
       "       '6132464e75e744d165bf2bd7, 6132463475e744d165bf26cf, 6132465f75e744d165bf2f38',\n",
       "       '6132465775e744d165bf2d99', '6132463475e744d165bf26ad',\n",
       "       '6132465775e744d165bf2da2, 6132466975e744d165bf30ec',\n",
       "       '6132463275e744d165bf2655',\n",
       "       '6132464875e744d165bf2aaf, 6132464975e744d165bf2aed, 6132465575e744d165bf2d16',\n",
       "       '6132464875e744d165bf2aa7, 6132464b75e744d165bf2b0e',\n",
       "       '6132466b75e744d165bf316c, 6132463075e744d165bf2612, 6132464975e744d165bf2af0, 6132465275e744d165bf2cb1, 6132466c75e744d165bf31ad, 6132464575e744d165bf2a26',\n",
       "       '6132465775e744d165bf2d99',\n",
       "       '6132462b75e744d165bf24f2, 6132466f75e744d165bf3249',\n",
       "       '6132465c75e744d165bf2e64, 6132464275e744d165bf2955, 6132462d75e744d165bf2524, 6132465f75e744d165bf2f1e',\n",
       "       '6132463075e744d165bf2612, 6132463575e744d165bf26d8',\n",
       "       '6132462b75e744d165bf24f2, 6132466f75e744d165bf3249',\n",
       "       '6132465275e744d165bf2ca1, 6132463775e744d165bf2738, 6132465975e744d165bf2de4, 6132463575e744d165bf26e7, 6132462375e744d165bf2337',\n",
       "       '6132464b75e744d165bf2b21, 6132466175e744d165bf2f6e, 6132465075e744d165bf2c52, 6132466975e744d165bf3114, 6132464675e744d165bf2a42',\n",
       "       '6132463a75e744d165bf27ec, 6132463375e744d165bf2683, 6132466775e744d165bf3077, 6132463b75e744d165bf2815',\n",
       "       '6132464e75e744d165bf2bd7, 6132463475e744d165bf26cf, 6132465f75e744d165bf2f38',\n",
       "       '6132463275e744d165bf2655', '6132464375e744d165bf2991',\n",
       "       '6132466575e744d165bf3024, 6132463f75e744d165bf28ff, 6132463875e744d165bf2780'],\n",
       "      dtype=object)"
      ]
     },
     "metadata": {},
     "execution_count": 377
    }
   ],
   "metadata": {}
  },
  {
   "cell_type": "code",
   "execution_count": 378,
   "source": [
    "# print(len(X)) -> 128\n",
    "# print(len(y)) -> 128\n",
    "# print(len(X_train)) -> 102\n",
    "# print(len(y_train)) -> 102\n",
    "# print(y_test) -> 26\n",
    "# print(len(X_test)) -> 26\n",
    "\n"
   ],
   "outputs": [],
   "metadata": {}
  },
  {
   "cell_type": "code",
   "execution_count": 342,
   "source": [
    "\n",
    "# score = accuracy_score(y_test, predictions)\n",
    "# score"
   ],
   "outputs": [],
   "metadata": {}
  },
  {
   "cell_type": "code",
   "execution_count": 379,
   "source": [
    "# cm = confusion_matrix(y_test, predictions)"
   ],
   "outputs": [],
   "metadata": {}
  },
  {
   "cell_type": "code",
   "execution_count": 380,
   "source": [
    "# cm"
   ],
   "outputs": [],
   "metadata": {}
  },
  {
   "cell_type": "code",
   "execution_count": 381,
   "source": [
    "\n",
    "# def accuracy(confusion_matrix):\n",
    "#     diagonal_sum = confusion_matrix.trace()\n",
    "#     sum_of_all_elements = confusion_matrix.sum()\n",
    "#     return diagonal_sum / sum_of_all_elements "
   ],
   "outputs": [],
   "metadata": {}
  },
  {
   "cell_type": "code",
   "execution_count": 382,
   "source": [
    "#accuracy(cm)\n"
   ],
   "outputs": [],
   "metadata": {}
  },
  {
   "cell_type": "code",
   "execution_count": 383,
   "source": [
    "joblib.dump(model, 'V1_product-recommender.joblib')\n"
   ],
   "outputs": [
    {
     "output_type": "execute_result",
     "data": {
      "text/plain": [
       "['V1_product-recommender.joblib']"
      ]
     },
     "metadata": {},
     "execution_count": 383
    }
   ],
   "metadata": {}
  },
  {
   "cell_type": "code",
   "execution_count": 384,
   "source": [
    "model_saved = joblib.load('V1_product-recommender.joblib')\n",
    "\n",
    "predictions = model_saved.predict(X_test)\n",
    "predictions"
   ],
   "outputs": [
    {
     "output_type": "execute_result",
     "data": {
      "text/plain": [
       "array(['6132464e75e744d165bf2bd7, 6132463475e744d165bf26cf, 6132465f75e744d165bf2f38',\n",
       "       '6132465975e744d165bf2e01, 6132463675e744d165bf272b',\n",
       "       '6132466c75e744d165bf31a9, 6132463775e744d165bf2763, 6132464275e744d165bf2974, 6132463a75e744d165bf27ed',\n",
       "       '6132466275e744d165bf2fcc, 6132465075e744d165bf2c15',\n",
       "       '6132466975e744d165bf30ff, 6132466775e744d165bf3086, 6132465275e744d165bf2cb1',\n",
       "       '6132462475e744d165bf2397, 6132464d75e744d165bf2bc1, 6132462875e744d165bf2453, 6132463375e744d165bf2688',\n",
       "       '6132464e75e744d165bf2bd7, 6132463475e744d165bf26cf, 6132465f75e744d165bf2f38',\n",
       "       '6132465775e744d165bf2d99', '6132463475e744d165bf26ad',\n",
       "       '6132465775e744d165bf2da2, 6132466975e744d165bf30ec',\n",
       "       '6132463275e744d165bf2655',\n",
       "       '6132464875e744d165bf2aaf, 6132464975e744d165bf2aed, 6132465575e744d165bf2d16',\n",
       "       '6132464875e744d165bf2aa7, 6132464b75e744d165bf2b0e',\n",
       "       '6132466b75e744d165bf316c, 6132463075e744d165bf2612, 6132464975e744d165bf2af0, 6132465275e744d165bf2cb1, 6132466c75e744d165bf31ad, 6132464575e744d165bf2a26',\n",
       "       '6132465775e744d165bf2d99',\n",
       "       '6132462b75e744d165bf24f2, 6132466f75e744d165bf3249',\n",
       "       '6132465c75e744d165bf2e64, 6132464275e744d165bf2955, 6132462d75e744d165bf2524, 6132465f75e744d165bf2f1e',\n",
       "       '6132463075e744d165bf2612, 6132463575e744d165bf26d8',\n",
       "       '6132462b75e744d165bf24f2, 6132466f75e744d165bf3249',\n",
       "       '6132465275e744d165bf2ca1, 6132463775e744d165bf2738, 6132465975e744d165bf2de4, 6132463575e744d165bf26e7, 6132462375e744d165bf2337',\n",
       "       '6132464b75e744d165bf2b21, 6132466175e744d165bf2f6e, 6132465075e744d165bf2c52, 6132466975e744d165bf3114, 6132464675e744d165bf2a42',\n",
       "       '6132463a75e744d165bf27ec, 6132463375e744d165bf2683, 6132466775e744d165bf3077, 6132463b75e744d165bf2815',\n",
       "       '6132464e75e744d165bf2bd7, 6132463475e744d165bf26cf, 6132465f75e744d165bf2f38',\n",
       "       '6132463275e744d165bf2655', '6132464375e744d165bf2991',\n",
       "       '6132466575e744d165bf3024, 6132463f75e744d165bf28ff, 6132463875e744d165bf2780'],\n",
       "      dtype=object)"
      ]
     },
     "metadata": {},
     "execution_count": 384
    }
   ],
   "metadata": {}
  },
  {
   "cell_type": "code",
   "execution_count": 386,
   "source": [
    "# Creat tree\n",
    "# tree.export_graphviz(model, \n",
    "# out_file='V1_product-recommender.dot', \n",
    "# feature_names=['gender', 'age', 'nationality'], \n",
    "# class_names = sorted(y.unique()), \n",
    "# label='all', \n",
    "# rounded = True, \n",
    "# filled= True)"
   ],
   "outputs": [],
   "metadata": {}
  }
 ],
 "metadata": {
  "orig_nbformat": 4,
  "language_info": {
   "name": "python",
   "version": "3.8.0",
   "mimetype": "text/x-python",
   "codemirror_mode": {
    "name": "ipython",
    "version": 3
   },
   "pygments_lexer": "ipython3",
   "nbconvert_exporter": "python",
   "file_extension": ".py"
  },
  "kernelspec": {
   "name": "python3",
   "display_name": "Python 3.8.0 64-bit"
  },
  "interpreter": {
   "hash": "0adcc2737ebf6a4a119f135174df96668767fca1ef1112612db5ecadf2b6d608"
  }
 },
 "nbformat": 4,
 "nbformat_minor": 2
}